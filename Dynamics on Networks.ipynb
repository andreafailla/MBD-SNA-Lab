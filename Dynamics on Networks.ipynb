{
  "cells": [
    {
      "cell_type": "markdown",
      "metadata": {
        "id": "F12_9YX3rCG5",
        "nbpresent": {
          "id": "d2c7bbf4-8ff2-4d52-bb77-18ee9fef0933"
        }
      },
      "source": [
        "<span>\n",
        "<img src=\"http://ndlib.readthedocs.io/en/latest/_static/ndlogo2.png\" width=\"260px\" align=\"right\"/>\n",
        "</span>\n",
        "<span>\n",
        "<b>Author:</b> <a href=\"http://about.giuliorossetti.net\">Giulio Rossetti</a><br/>\n",
        "<b>Python version:</b>  3.6<br/>\n",
        "<b>NDlib version:</b>  4.0.1<br/>\n",
        "<b>Last update:</b> 25/09/2018\n",
        "</span>"
      ]
    },
    {
      "cell_type": "markdown",
      "metadata": {
        "id": "tXtcfqlHrCG5",
        "nbpresent": {
          "id": "9410d1a8-4b66-4e37-a3d9-8b6c8589fb46"
        }
      },
      "source": [
        "<a id='top'></a>\n",
        "# *Intro to NDlib: Network Diffusion library*\n",
        "\n",
        "``NDlib`` is a python library designed to provide support to the analysis of diffusive phenomena occurring on top of complex network structures.\n",
        "\n",
        "In this notebook are introduced some of the main features of the library and an overview of its functionalities.\n",
        "\n",
        "**Note:** this notebook is purposely not 100% comprehensive, it only discusses the basic things you need to get started."
      ]
    },
    {
      "cell_type": "markdown",
      "metadata": {
        "id": "AoiomRldrCG6",
        "nbpresent": {
          "id": "21707746-7149-4b56-a372-b897903c09ad"
        },
        "toc-hr-collapsed": true
      },
      "source": [
        "## Table of Contents\n",
        "\n",
        "1. [Installing NDlib](#install)\n",
        "2. [Simulation Workflow](#workflow)\n",
        "    1. [Graph Creation](#graph)\n",
        "    2. [Model Selection and Configuration](#model)\n",
        "    3. [Simulation Execution](#simulation)\n",
        "    4. [Results Visualisation](#visual)\n",
        "3. [Available models](#models)\n",
        "    1. [Epidemics](#epidemics)\n",
        "    2. [Opinion Dynamics](#opinion)\n",
        "4. [Advanced Model Configurations](#advanced)\n",
        "    1. [Node Attributes](#nodes)\n",
        "    2. [Edge Attributes](#edges)\n",
        "    3. [Infection Seeds Selection](#seeds)\n",
        "        1. [Model Stability](#stability)\n",
        "        2. [Stability Visualisation](#stability_vis)\n",
        "5. [Comparing Diffusion models](#comparing)\n",
        "6. [Diffusion on Dynamic Networks](#dynamic)\n",
        "    1. [DynetX: a library for dynamic network modeling](#dynetx)\n",
        "        1. [Snapshot Graphs](#snapshots)\n",
        "        2. [Interaction Networks](#interactions)\n",
        "    2. [Available models](#models2)\n",
        "    3. [Example: SIR](#dynsir)\n",
        "7. [Custom Model Definition](#custom)\n",
        "    1. [Compartments](#compartments)\n",
        "        1. [Node compartments](#nc)\n",
        "        2. [Edge compartments](#ec)\n",
        "        3. [Time compartments](#tc)\n",
        "    2. [Compartments Composition](#composition)\n",
        "        1. [Cascading Composition](#cascading)\n",
        "        2. [Conditional Composition](#conditional)\n",
        "    3. [Example: SIR](#sir)\n",
        "8. [NDQL: Network Diffusion Query Language](#ndql)\n",
        "    1. [Syntax](#syntax)\n",
        "    2. [Command line tools](#cmd)\n",
        "    3. [Example: SIR](#sir2)\n",
        "9. [Conclusions](#conclusion)"
      ]
    },
    {
      "cell_type": "markdown",
      "metadata": {
        "id": "IrfxUafArCG6",
        "nbpresent": {
          "id": "29b525b9-a5e1-4f09-8670-e3f5515eaf5e"
        }
      },
      "source": [
        "<a id='install'></a>\n",
        "## 1. Installing NDlib ([to top](#top))"
      ]
    },
    {
      "cell_type": "markdown",
      "metadata": {
        "id": "XTRj5W1vrCG6",
        "nbpresent": {
          "id": "3512527f-fba1-4767-afe0-e440840d2140"
        }
      },
      "source": [
        "As a first step, we need to make sure that ``NDlib`` is installed and working.\n",
        "\n",
        "The library is available for both python 2.7 and 3.x, and its stable version can be installed using ``pip``:"
      ]
    },
    {
      "cell_type": "markdown",
      "metadata": {
        "id": "jtldrAhErCG6",
        "nbpresent": {
          "id": "52f89477-51cf-403d-bd7f-cd96e9dfc62d"
        }
      },
      "source": [
        "    pip install ndlib"
      ]
    },
    {
      "cell_type": "markdown",
      "metadata": {
        "id": "tJjulSG2rCG6",
        "nbpresent": {
          "id": "3bc56bde-a391-4af5-8abe-7d2515507d65"
        }
      },
      "source": [
        "On the project [GitHub](https://github.com/GiulioRossetti/ndlib) are also available the nightly builds that can be installed as follows:"
      ]
    },
    {
      "cell_type": "markdown",
      "metadata": {
        "id": "aRKarSPWrCG6",
        "nbpresent": {
          "id": "d5b13b7a-411c-4e83-b686-6c52f8afce43"
        }
      },
      "source": [
        "    pip install git+https://github.com/GiulioRossetti/ndlib.git > /dev/null"
      ]
    },
    {
      "cell_type": "markdown",
      "metadata": {
        "id": "yT5UZc-arCG6",
        "nbpresent": {
          "id": "d256b3e0-a7b9-4280-b039-611b454c0bc8"
        }
      },
      "source": [
        "In order to check if ``ndlib`` has been correctly installed just try to import it"
      ]
    },
    {
      "cell_type": "code",
      "execution_count": null,
      "metadata": {
        "colab": {
          "base_uri": "https://localhost:8080/"
        },
        "id": "u3xGFClerCG6",
        "nbpresent": {
          "id": "7e934716-2cd5-41dc-94f1-e2bec1e46253"
        },
        "outputId": "26cdc6d1-9ff2-4057-c628-b3e3ed379ae5"
      },
      "outputs": [],
      "source": [
        "#!pip install ndlib\n",
        "import ndlib"
      ]
    },
    {
      "cell_type": "markdown",
      "metadata": {
        "id": "wJZJqlPKrCG6",
        "nbpresent": {
          "id": "f6ebc361-ba08-4c07-b6e4-70ea0553c85f"
        }
      },
      "source": [
        "<a id='workflow'></a>\n",
        "## 2. Simulation Workflow ([to top](#top))\n",
        "\n",
        "``Ndlib`` breaks the simulation of diffusive phenomena into a standard workflow:\n",
        "- Network Creation\n",
        "- Diffusion model Selection and Configuration\n",
        "- Simulation execution\n",
        "- Results visualisation\n",
        "\n",
        "In this section we will observe how to templating such workflow describing a simple *SIR* simulation.\n",
        "\n",
        "<img src=\"https://raw.githubusercontent.com/sna-unipi/SNA-lectures-notebooks/6a4cb8b9d6b30f9d304a2947240b1c52ec9d34b2/img/sir.png\"/>"
      ]
    },
    {
      "cell_type": "markdown",
      "metadata": {
        "id": "81tiRuwWrCG7",
        "nbpresent": {
          "id": "6a27ddf5-b22f-4a18-b356-c4ff88d262c6"
        }
      },
      "source": [
        "<a id=\"graph\"></a>\n",
        "### 2.A Graph object creation ([to top](#top))"
      ]
    },
    {
      "cell_type": "markdown",
      "metadata": {
        "id": "GO3xN-JerCG7",
        "nbpresent": {
          "id": "5bee6e13-4794-4da7-b48c-9d10fb6d93a2"
        }
      },
      "source": [
        "As a first step we need to define the network topology that will be used as playground to study diffusive phenomena.\n",
        "\n",
        "``NDlib`` leverage [``networkx``](https://networkx.github.io) data structure to provide support for both directed and undirected graphs.\n",
        "\n",
        "In this example, to perform our simulation, we instantiate a Erdos-Renyi graph as follows:"
      ]
    },
    {
      "cell_type": "code",
      "execution_count": null,
      "metadata": {
        "id": "m9ung8_JrCG7",
        "nbpresent": {
          "id": "bdb19eea-c3a3-4546-84c0-574217525f31"
        }
      },
      "outputs": [],
      "source": [
        "import networkx as nx\n",
        "\n",
        "g = nx.erdos_renyi_graph(1000, 0.1)"
      ]
    },
    {
      "cell_type": "markdown",
      "metadata": {
        "id": "VH5SYT77rCG7",
        "nbpresent": {
          "id": "edf7e27b-3601-4597-8b2f-c466ce03e4ca"
        }
      },
      "source": [
        "<a id=\"model\"></a>\n",
        "### 2.B Model Selection and Configuration ([to top](#top))\n",
        "\n",
        "After having defined the graph, we can select the diffusion model to simulate. In our example we import the SIR model and instantiate it on our graph."
      ]
    },
    {
      "cell_type": "code",
      "execution_count": null,
      "metadata": {
        "id": "3pA9Vkj5rCG7",
        "nbpresent": {
          "id": "8525a4f9-89f9-4861-8d29-59c8f57fdfe0"
        }
      },
      "outputs": [],
      "source": [
        "from ndlib.models.epidemics import SIRModel\n",
        "\n",
        "model = SIRModel(g)"
      ]
    },
    {
      "cell_type": "markdown",
      "metadata": {
        "id": "-AnoRaOzrCG7",
        "nbpresent": {
          "id": "346fd5eb-6610-4bc0-b0b1-099755ceb514"
        }
      },
      "source": [
        "Every diffusion model has its own parameter, ``NDlib`` offers a common interface to specify them: ``ModelConfig``.\n",
        "``ModelConfig`` takes care of validating model parameters.\n",
        "\n",
        "Indeed, every model has its own parameters: model specific parameter list and definitions are available on the project [documentation site](http://ndlib.readthedocs.io).\n",
        "\n",
        "In order to get a description of the required parameters just access the ``parameter`` field"
      ]
    },
    {
      "cell_type": "code",
      "execution_count": null,
      "metadata": {
        "colab": {
          "base_uri": "https://localhost:8080/"
        },
        "id": "fhedXp3grCG7",
        "nbpresent": {
          "id": "c7a33f02-ca17-4f0f-9f39-771f0f963aa7"
        },
        "outputId": "05076b53-25e5-46c2-98f9-bd6df7313f2d"
      },
      "outputs": [],
      "source": [
        "import json\n",
        "print(json.dumps(model.parameters, indent=2))"
      ]
    },
    {
      "cell_type": "markdown",
      "metadata": {
        "id": "hkzzPQM-rCG7",
        "nbpresent": {
          "id": "bb1b20e8-1c45-4f32-9aed-286c5cf0c7e7"
        }
      },
      "source": [
        "Similarly, to obtain a list of the statuses implemented in the selected model just access the ``available_statuses`` field"
      ]
    },
    {
      "cell_type": "code",
      "execution_count": null,
      "metadata": {
        "colab": {
          "base_uri": "https://localhost:8080/"
        },
        "id": "yGU0AoMYrCG7",
        "nbpresent": {
          "id": "1bed3093-1658-4a8a-b66a-40b2dbc81936"
        },
        "outputId": "b6a04af9-73a9-438b-ab3b-aec4df1b8e82"
      },
      "outputs": [],
      "source": [
        "model.available_statuses"
      ]
    },
    {
      "cell_type": "code",
      "execution_count": null,
      "metadata": {
        "id": "TKX3FrLwrCG7",
        "nbpresent": {
          "id": "1519173d-12c9-422c-a9ec-04cf5b913912"
        }
      },
      "outputs": [],
      "source": [
        "import ndlib.models.ModelConfig as mc\n",
        "\n",
        "cfg = mc.Configuration()\n",
        "cfg.add_model_parameter('beta', 0.001) # infection rate\n",
        "cfg.add_model_parameter('gamma', 0.01) # recovery rate"
      ]
    },
    {
      "cell_type": "markdown",
      "metadata": {
        "id": "DtFPwXK5rCG7",
        "nbpresent": {
          "id": "e2d56115-2cd3-4277-bd5c-77200170d4bc"
        }
      },
      "source": [
        "``ModelConfig`` also allows to describe the initial condition of the simulation. It makes possible, for instance, to specify the initial percentage of infected nodes in the network."
      ]
    },
    {
      "cell_type": "code",
      "execution_count": null,
      "metadata": {
        "id": "06D0_MbvrCG7",
        "nbpresent": {
          "id": "9305b01c-51cb-4b7e-ac43-d39e529d6632"
        }
      },
      "outputs": [],
      "source": [
        "cfg.add_model_parameter(\"percentage_infected\", 0.01)\n",
        "model.set_initial_status(cfg)"
      ]
    },
    {
      "cell_type": "markdown",
      "metadata": {
        "id": "ijBVPAUfrCG7",
        "nbpresent": {
          "id": "a25dd06c-cff2-414a-9fe6-9cfa853a9d65"
        }
      },
      "source": [
        "<a id=\"simulation\"></a>\n",
        "### 2.C Simulation Execution ([to top](#top))\n",
        "\n",
        "Once described the network, the model and the initial conditions it is possible to perform the simulation.\n",
        "\n",
        "``NDlib`` models diffusive phenomena as **discrete-time**, **agent-based** processes: during every iteration all nodes are evaluated and, their statuses are updated accordingly to the model rules.\n",
        "\n",
        "Iterations can be required (incrementally) by using two methods:\n",
        "- ``iteration()``\n",
        "- ``iteration_bunch(nbunch, node_status=False)``\n",
        "\n",
        "The former computes a single iteration step, the latter executes ``nbunch`` iterations.\n",
        "\n",
        "The ``node_status`` parameter allows to return the individual node status at each iteration."
      ]
    },
    {
      "cell_type": "code",
      "execution_count": null,
      "metadata": {
        "colab": {
          "base_uri": "https://localhost:8080/"
        },
        "id": "QXzdDxCWrCG7",
        "nbpresent": {
          "id": "8cb4dd67-b58f-4bae-82c8-e85d5c4ebd65"
        },
        "outputId": "0b396286-376f-4cec-cea7-830b8b2ca2b2"
      },
      "outputs": [],
      "source": [
        "iterations = model.iteration_bunch(200, node_status=True)\n",
        "iterations"
      ]
    },
    {
      "cell_type": "markdown",
      "metadata": {
        "id": "W2zAAInkrCG8",
        "nbpresent": {
          "id": "9428e785-c5ce-4df3-992c-5863acef8aa6"
        }
      },
      "source": [
        "To abstract from iterations details it is possible to transform them into diffusion **trends** using the ``build_trends(iterations)`` method:"
      ]
    },
    {
      "cell_type": "code",
      "execution_count": null,
      "metadata": {
        "colab": {
          "base_uri": "https://localhost:8080/"
        },
        "id": "i0CE-ssjrCG8",
        "nbpresent": {
          "id": "0fe368c9-aee0-4f5f-a37a-a44557b21901"
        },
        "outputId": "58b8fee7-6818-4924-eac0-645b5c02e6d0"
      },
      "outputs": [],
      "source": [
        "trends = model.build_trends(iterations)\n",
        "trends"
      ]
    },
    {
      "cell_type": "markdown",
      "metadata": {
        "id": "SK9fxUuArCG8",
        "nbpresent": {
          "id": "3f73d8fc-52c2-4d61-becb-40cb61b95e01"
        }
      },
      "source": [
        "<a id=\"top\"></a>\n",
        "###  2.D Results Visualisation ([to top](#top))\n",
        "\n",
        "Finally, ``NDlib`` allows to inspect the behavior of the simulated model using standard plots such as the ``DiffusionTrend`` and ``DiffusionPrevalence`` ones."
      ]
    },
    {
      "cell_type": "code",
      "execution_count": null,
      "metadata": {
        "colab": {
          "base_uri": "https://localhost:8080/",
          "height": 993
        },
        "id": "6Z57_jxSrCG8",
        "nbpresent": {
          "id": "e99ca466-636e-41c6-92df-5c47e9e8f284"
        },
        "outputId": "20aff492-e6f4-41e0-d94b-845d4a926ef2"
      },
      "outputs": [],
      "source": [
        "%matplotlib inline\n",
        "from ndlib.viz.mpl.DiffusionTrend import DiffusionTrend\n",
        "viz = DiffusionTrend(model, trends)\n",
        "viz.plot()"
      ]
    },
    {
      "cell_type": "code",
      "execution_count": null,
      "metadata": {
        "colab": {
          "base_uri": "https://localhost:8080/",
          "height": 505
        },
        "id": "PKrKUGv0rCG8",
        "nbpresent": {
          "id": "1329a916-f0ee-426f-a543-c4e93c038fc5"
        },
        "outputId": "ae238c87-8a7b-4fa6-e0a7-29730ece30f9"
      },
      "outputs": [],
      "source": [
        "from ndlib.viz.mpl.DiffusionPrevalence import DiffusionPrevalence\n",
        "viz = DiffusionPrevalence(model, trends)\n",
        "viz.plot()"
      ]
    },
    {
      "cell_type": "markdown",
      "metadata": {
        "id": "xbVf6weprCG8",
        "nbpresent": {
          "id": "ccea099f-8005-4323-a95c-d62f233c22f8"
        }
      },
      "source": [
        "The proposed visualisation are realised using the [``matplotlib``](https://matplotlib.org) python library. They are fully customizable and all the metadata they visualize is gathered by the ``model`` object.\n",
        "\n",
        "To obtain web-oriented versions of such plots ``NDlib`` exposes a second visualisation endpoint built on top of [``bokeh``](https://bokeh.pydata.org/en/latest/): the plotting facilities its defines are collected within the sub-package ``ndlib.viz.bokeh`` and follow the same rationale of their ``matplotlib`` counterpart."
      ]
    },
    {
      "cell_type": "markdown",
      "metadata": {
        "id": "YlKyskCVrCG8",
        "nbpresent": {
          "id": "a9bd10e4-0421-4a26-a23f-89a7c4a6d40c"
        }
      },
      "source": [
        "<a id=\"models\"></a>\n",
        "## 3. Available models ([to top](#top))"
      ]
    },
    {
      "cell_type": "markdown",
      "metadata": {
        "id": "J4Py30norCG8",
        "nbpresent": {
          "id": "000e4199-f50b-4ea2-bbee-504ec2241ceb"
        }
      },
      "source": [
        "The analysis of diffusive phenomena that unfold on top of complex networks is a task able to attract growing interests from multiple fields of research.\n",
        "\n",
        "In order to provide a succinct framing of such complex and extensively studied problem it is possible to split the related literature into two broad, related, sub-classes: **Epidemics** and **Opinion Dynamics**."
      ]
    },
    {
      "cell_type": "markdown",
      "metadata": {
        "id": "Y1yaVelOrCG8",
        "nbpresent": {
          "id": "7f7f36d3-bba7-41ee-aef9-178fffde0c92"
        }
      },
      "source": [
        "<a id=\"epidemics\"></a>\n",
        "### 3.A Epidemics ([to top](#top))\n",
        "\n",
        "When we talk about epidemics, we think about contagious diseases caused by biological pathogens, like influenza, measles, chickenpox and sexually transmitted viruses that spread from person to person.\n",
        "\n",
        "Several elements determine the patterns by which epidemics spread through groups of people: the properties carried by the pathogen (its contagiousness, the length of its infectious period and its severity), the structure of the network as well as the mobility patterns of the people involved.\n",
        "\n",
        "In ``NDlib`` are implemented the following 12 Epidemic models:"
      ]
    },
    {
      "cell_type": "markdown",
      "metadata": {
        "id": "j7itlT9DrCG8",
        "nbpresent": {
          "id": "14d28c55-bb33-4479-9fbc-3b988509315b"
        }
      },
      "source": [
        "<table>\n",
        "    <tr>\n",
        "        <td><a href='http://ndlib.readthedocs.io/en/latest/reference/models/epidemics/SIm.html'>SI</a></td>\n",
        "        <td><a href='http://ndlib.readthedocs.io/en/latest/reference/models/epidemics/SIS.html'>SIS</a></td>\n",
        "        <td><a href='http://ndlib.readthedocs.io/en/latest/reference/models/epidemics/SIR.html'>SIR</a></td>\n",
        "    </tr>\n",
        "    <tr>\n",
        "        <td><a href='http://ndlib.readthedocs.io/en/latest/reference/models/epidemics/SEIR.html'>SEIR</a></td>\n",
        "        <td><a href='http://ndlib.readthedocs.io/en/latest/reference/models/epidemics/SEIS.html'>SEIS</a></td>\n",
        "        <td><a href='http://ndlib.readthedocs.io/en/latest/reference/models/epidemics/SWIR.html'>SWIR</a></td>\n",
        "    </tr>\n",
        "    <tr>\n",
        "        <td><a href='http://ndlib.readthedocs.io/en/latest/reference/models/epidemics/Threshold.html'>Threshold</a></td>\n",
        "        <td><a href='http://ndlib.readthedocs.io/en/latest/reference/models/epidemics/GeneralisedThreshold.html'>Generalised Threshold</a></td>\n",
        "        <td><a href='http://ndlib.readthedocs.io/en/latest/reference/models/epidemics/KThreshold.html'>Kertesz Threshold</a></td>\n",
        "    </tr>\n",
        "    <tr>\n",
        "        <td><a href='http://ndlib.readthedocs.io/en/latest/reference/models/epidemics/Profile.html'>Profile</a></td>\n",
        "        <td><a href='http://ndlib.readthedocs.io/en/latest/reference/models/epidemics/ProfileThreshold.html'>Profile-Threshold</a></td>\n",
        "        <td><a href='http://ndlib.readthedocs.io/en/latest/reference/models/epidemics/IndependentCascades.html'>Independent Cascades</a></td>\n",
        "    </tr>\n",
        "</table>"
      ]
    },
    {
      "cell_type": "markdown",
      "metadata": {
        "id": "qwRYbfc7rCG8",
        "nbpresent": {
          "id": "bdcdf439-7e48-45c9-9a31-f545cd7082a7"
        }
      },
      "source": [
        "<a id=\"opinions\"></a>\n",
        "### 3.B Opinion Dynamics ([to top](#top))\n",
        "\n",
        "A different field related with modelling social behaviour is that of opinion dynamics.\n",
        "\n",
        "Recent years have witnessed the introduction of a wide range of models that attempt to explain how opinions form in a population, taking into account various social theories (e.g. bounded confidence or social impact).\n",
        "\n",
        "These models have a lot in common with those seen in epidemics and spreading. In general, individuals are modelled as agents with a state and connected by a social network.\n",
        "\n",
        "The social links can be represented by a complete graph (*mean field* models) or by more realistic complex networks, similar to epidemics and spreading.\n",
        "\n",
        "The state is typically represented by variables, that can be *discrete* (similar to the case of spreading), but also *continuous*, representing for instance a probability to choose one option or another. The state of individuals changes in time, based on a set of update rules, mainly through interaction with the neighbours.\n",
        "\n",
        "While in many spreading and epidemics models this change is irreversible (susceptible to infected), in opinion dynamics the state can oscillate freely between the possible values, simulating thus how opinions change in reality.\n",
        "\n",
        "In ``NDlib`` are implemented the following 6 Opinion Dynamics models:"
      ]
    },
    {
      "cell_type": "markdown",
      "metadata": {
        "id": "yzooQXbPrCG8",
        "nbpresent": {
          "id": "f13e6790-2a8f-4245-9116-687e0fca0d78"
        }
      },
      "source": [
        "<table>\n",
        "    <tr>\n",
        "        <td><a href='http://ndlib.readthedocs.io/en/latest/reference/models/opinion/Voter.html'>Voter</a></td>\n",
        "        <td><a href='http://ndlib.readthedocs.io/en/latest/reference/models/opinion/QVoter.html'>Q-Voter</a></td>\n",
        "        <td><a href='http://ndlib.readthedocs.io/en/latest/reference/models/opinion/MajorityRule.html'>Majority Rule</a></td>\n",
        "    </tr>\n",
        "    <tr>\n",
        "        <td><a href='http://ndlib.readthedocs.io/en/latest/reference/models/opinion/Snajzd.html'>Sznajd</a></td>\n",
        "        <td><a href='http://ndlib.readthedocs.io/en/latest/reference/models/opinion/COD.html'>Cognitive Opinion Dynamics</a></td>\n",
        "        <td><a href='http://ndlib.readthedocs.io/en/latest/reference/models/opinion/AlgorithmicBias.html'>Algorithmic Bias</a></td>\n",
        "    </tr>\n",
        "</table>"
      ]
    },
    {
      "cell_type": "code",
      "execution_count": null,
      "metadata": {},
      "outputs": [],
      "source": [
        "from ndlib.models import opinions as op\n",
        "model = op.AlgorithmicBiasModel(g)\n",
        "\n",
        "# Model configuration\n",
        "config = mc.Configuration()\n",
        "config.add_model_parameter(\"epsilon\", 0.32)\n",
        "config.add_model_parameter(\"gamma\", 0)  # No bias = Deffuant\n",
        "model.set_initial_status(config)\n",
        "\n",
        "# Simulation execution\n",
        "iterations = model.iteration_bunch(100)"
      ]
    },
    {
      "cell_type": "code",
      "execution_count": null,
      "metadata": {},
      "outputs": [],
      "source": [
        "%matplotlib inline\n",
        "from ndlib.viz.mpl.OpinionEvolution import OpinionEvolution\n",
        "viz = OpinionEvolution(model, iterations)\n",
        "viz.plot()"
      ]
    },
    {
      "cell_type": "markdown",
      "metadata": {
        "id": "M4DxiMojrCG-",
        "nbpresent": {
          "id": "e152a844-f26c-4151-9aaf-276a41d5170d"
        }
      },
      "source": [
        "<a id=\"comparing\"></a>\n",
        "## 5. Comparing Diffusion models ([to top](#top))\n",
        "\n",
        "A common goal for which diffusion simulations are executed is to perform comparison among different models (or different instantiations of a same model).\n",
        "\n",
        "To address such demands ``NDlib`` provides visual comparison plots.\n",
        "\n",
        "To show how they work, as a first step we execute a second model (in this exampe an **SI** model) over our original graph."
      ]
    },
    {
      "cell_type": "code",
      "execution_count": null,
      "metadata": {
        "id": "yAhCfSjhrCG-",
        "nbpresent": {
          "id": "83c9c8d8-c485-4b3e-a5c4-32fec616e3d2"
        }
      },
      "outputs": [],
      "source": [
        "from ndlib.utils import multi_runs\n",
        "from ndlib.models.epidemics import SIModel\n",
        "model1 = SIModel(g)\n",
        "cfg = mc.Configuration()\n",
        "cfg.add_model_parameter('beta', 0.001)\n",
        "cfg.add_model_parameter(\"percentage_infected\", 0.01)\n",
        "model1.set_initial_status(cfg)\n",
        "trends1 = multi_runs(model1, execution_number=10, iteration_number=100, nprocesses=4)\n",
        "\n",
        "\n",
        "model2 = SIRModel(g)\n",
        "cfg = mc.Configuration()\n",
        "cfg.add_model_parameter('beta', 0.001) # infection rate\n",
        "cfg.add_model_parameter('gamma', 0.01) # recovery rate\n",
        "cfg.add_model_parameter('percentage_infected', 0.01) # recovery rate\n",
        "\n",
        "trends2 = multi_runs(model1, execution_number=10, iteration_number=100, nprocesses=4)"
      ]
    },
    {
      "cell_type": "markdown",
      "metadata": {
        "id": "80k5V5Y0rCG-",
        "nbpresent": {
          "id": "eb42ef55-d83f-415e-ab46-34429f6b5253"
        }
      },
      "source": [
        "Then, we can compare them:"
      ]
    },
    {
      "cell_type": "code",
      "execution_count": null,
      "metadata": {
        "colab": {
          "base_uri": "https://localhost:8080/",
          "height": 487
        },
        "id": "SYiKI_KbrCG-",
        "nbpresent": {
          "id": "8a64a937-c48d-4fbd-a344-3eba502fa205"
        },
        "outputId": "42b5f20d-50e1-4191-d8aa-08d8cd34e225"
      },
      "outputs": [],
      "source": [
        "%matplotlib inline\n",
        "from ndlib.viz.mpl.TrendComparison import DiffusionTrendComparison\n",
        "viz = DiffusionTrendComparison([model1, model2], [trends1, trends2], statuses=['Infected'])\n",
        "viz.plot()"
      ]
    },
    {
      "cell_type": "code",
      "execution_count": null,
      "metadata": {
        "id": "0QhQDcSrrCG-",
        "nbpresent": {
          "id": "b0908a6c-0be3-448a-bd69-813efb85538f"
        },
        "outputId": "8e5b0d66-decc-4da0-b58b-b9757e457ef5"
      },
      "outputs": [],
      "source": [
        "from ndlib.viz.mpl.PrevalenceComparison import DiffusionPrevalenceComparison\n",
        "viz = DiffusionPrevalenceComparison([model1, model2], [trends1, trends2], statuses=['Infected'])\n",
        "viz.plot()"
      ]
    },
    {
      "cell_type": "markdown",
      "metadata": {
        "id": "VM5scqx2rCG-",
        "nbpresent": {
          "id": "72eae37f-eb5f-4c68-b553-98cd57ade290"
        }
      },
      "source": [
        "The method parameter ``statuses`` takes as input a list of the models statuses trends we want to compare.\n",
        "So, for instance, if we are interested in comparing both the trends for *Infected* and *Susceptible* nodes we can do something like this:"
      ]
    },
    {
      "cell_type": "code",
      "execution_count": null,
      "metadata": {
        "id": "l2anMJRMrCG-",
        "nbpresent": {
          "id": "4b067c6d-aae0-45f3-949b-3e16019becc0"
        },
        "outputId": "8684a871-4edc-45c2-f423-16d06153e040"
      },
      "outputs": [],
      "source": [
        "from ndlib.viz.mpl.TrendComparison import DiffusionTrendComparison\n",
        "viz = DiffusionTrendComparison([model1, model2], [trends1, trends2], statuses=['Infected', 'Susceptible'])\n",
        "viz.plot()"
      ]
    },
    {
      "cell_type": "markdown",
      "metadata": {
        "id": "wfp5UbidrCHC",
        "nbpresent": {
          "id": "04ab94e9-6b79-412d-996c-6c6f1b02f003"
        }
      },
      "source": [
        "<a id=\"conclusion\"></a>\n",
        "## Exercises ([to top](#top))\n"
      ]
    },
    {
      "cell_type": "markdown",
      "metadata": {
        "id": "fgYi8n5orCHC",
        "nbpresent": {
          "id": "d741d711-e149-4ace-8de4-51140fa190f8"
        }
      },
      "source": [
        "**Scenario**\n",
        "\n",
        "You’re an analyst tasked with understanding how COVID-19 might propagate through a mid-size office. The office seating plan has both clustered workgroups (teams) and occasional cross-team interactions (meetings, breakroom).\n",
        "\n",
        "\n",
        "Generate a Watts–Strogatz small-world graph with 200 nodes, each node representing an employee.\n",
        "\n",
        "- Each node connected to its 6 nearest neighbours on a ring (k = 6).\n",
        "- Rewiring probability p = 0.1 to simulate occasional cross-team contacts."
      ]
    },
    {
      "cell_type": "code",
      "execution_count": null,
      "metadata": {
        "id": "VDVzqw_3rCHC",
        "nbpresent": {
          "id": "3b74b409-b3f4-41a2-8de2-6035e50f6424"
        }
      },
      "outputs": [],
      "source": []
    },
    {
      "cell_type": "markdown",
      "metadata": {
        "id": "2w1Wuc8XvE9y"
      },
      "source": [
        "**Model Selection & Configuration**\n",
        "\n",
        "Choose an appropriate epidemics model. Consider Covid-19's characteristics. Initialise with 2% of nodes infected."
      ]
    },
    {
      "cell_type": "code",
      "execution_count": null,
      "metadata": {
        "id": "bzqoT6ixvRKY"
      },
      "outputs": [],
      "source": []
    },
    {
      "cell_type": "markdown",
      "metadata": {
        "id": "dh295TGhvheW"
      },
      "source": [
        "Run the simulation for 100 time steps."
      ]
    },
    {
      "cell_type": "code",
      "execution_count": null,
      "metadata": {
        "id": "8L2WItmPvZd-"
      },
      "outputs": [],
      "source": []
    },
    {
      "cell_type": "markdown",
      "metadata": {
        "id": "id4vnHkpvlQS"
      },
      "source": [
        "Plot both DiffusionTrend and DiffusionPrevalence.\n",
        "\n",
        "Identify (visually) the iteration at which active infections peak. Estimate (visually) the amount of recovered agents at the end of the simulation"
      ]
    },
    {
      "cell_type": "code",
      "execution_count": null,
      "metadata": {
        "id": "rhFTK0EXvwOl"
      },
      "outputs": [],
      "source": []
    },
    {
      "cell_type": "markdown",
      "metadata": {
        "id": "bkMJK6suwU5y"
      },
      "source": [
        "How does increasing β change peak timing and size?"
      ]
    },
    {
      "cell_type": "code",
      "execution_count": null,
      "metadata": {
        "id": "LNHid3ubvyIA"
      },
      "outputs": [],
      "source": []
    },
    {
      "cell_type": "code",
      "execution_count": null,
      "metadata": {
        "id": "CFTXy6l3xg7n"
      },
      "outputs": [],
      "source": []
    },
    {
      "cell_type": "markdown",
      "metadata": {
        "id": "jA9OLRk1wWO7"
      },
      "source": [
        "What if you reduce γ (slower recovery)? (keep β as in the first execution)."
      ]
    },
    {
      "cell_type": "code",
      "execution_count": null,
      "metadata": {
        "id": "TVBC8PeGwWnV"
      },
      "outputs": [],
      "source": []
    },
    {
      "cell_type": "code",
      "execution_count": null,
      "metadata": {
        "id": "ohmgKaOdxhlQ"
      },
      "outputs": [],
      "source": []
    },
    {
      "cell_type": "markdown",
      "metadata": {
        "id": "BXwgijhLzlIq"
      },
      "source": [
        "### Exercise 2\n",
        "You’re a social scientist studying how opinions converge or polarize in an online community. You’ll use a bounded‐confidence model with algorithmic bias to see how individuals adjust their views through pairwise interactions. Specifically, you want to understand how different recommendation systems affect opinion formation.\n",
        "\n",
        "Generate a Barabási–Albert scale-free graph with 200 nodes (users), where each new node attaches to 3 existing nodes (m = 3):"
      ]
    },
    {
      "cell_type": "code",
      "execution_count": null,
      "metadata": {
        "id": "0kbm5eSvxkFF"
      },
      "outputs": [],
      "source": []
    },
    {
      "cell_type": "markdown",
      "metadata": {
        "id": "tNc8AAvmzyue"
      },
      "source": [
        "**Model Selection & Configuration**\n",
        "\n",
        "- Use the Algorithmic bias from ndlib.models.opinions.\n",
        "- Set the bounded confidence to 0.3.\n",
        "- set the algorithmic bias to 1\n",
        "- Then run the model for 100 iterations\n"
      ]
    },
    {
      "cell_type": "code",
      "execution_count": null,
      "metadata": {
        "id": "8jeC68z_zveY"
      },
      "outputs": [],
      "source": []
    },
    {
      "cell_type": "markdown",
      "metadata": {
        "id": "ipIZqd7mz8Iw"
      },
      "source": [
        "Visualize the opinion evolution"
      ]
    },
    {
      "cell_type": "code",
      "execution_count": null,
      "metadata": {
        "id": "YkRd3hZjzvTJ"
      },
      "outputs": [],
      "source": []
    },
    {
      "cell_type": "markdown",
      "metadata": {
        "id": "KzYBch2a6JiJ"
      },
      "source": [
        "Compare with a setting where no algorithmic effect is present"
      ]
    },
    {
      "cell_type": "code",
      "execution_count": null,
      "metadata": {
        "id": "ndjF7ufL6Txf"
      },
      "outputs": [],
      "source": []
    },
    {
      "cell_type": "markdown",
      "metadata": {
        "id": "isK1OFIQ6V-D"
      },
      "source": [
        "Visualize opinion evolution"
      ]
    },
    {
      "cell_type": "code",
      "execution_count": null,
      "metadata": {
        "id": "sq5UohDb6Yov"
      },
      "outputs": [],
      "source": []
    },
    {
      "cell_type": "markdown",
      "metadata": {
        "id": "wqY9v8Mr3Thx"
      },
      "source": [
        "Change the algoithmic bias to 40 to simulate a more personalized/aggressive recommender."
      ]
    },
    {
      "cell_type": "code",
      "execution_count": null,
      "metadata": {
        "id": "hrSlPn4A3TGf"
      },
      "outputs": [],
      "source": []
    },
    {
      "cell_type": "markdown",
      "metadata": {
        "id": "RCXrkr8-3bba"
      },
      "source": [
        "Visualize opinion evolution"
      ]
    },
    {
      "cell_type": "code",
      "execution_count": null,
      "metadata": {
        "id": "DXLWm6RozvHW"
      },
      "outputs": [],
      "source": []
    },
    {
      "cell_type": "code",
      "execution_count": null,
      "metadata": {
        "id": "aF5d7ch74SF5"
      },
      "outputs": [],
      "source": []
    }
  ],
  "metadata": {
    "colab": {
      "provenance": []
    },
    "kernelspec": {
      "display_name": "Python 3",
      "language": "python",
      "name": "python3"
    },
    "language_info": {
      "codemirror_mode": {
        "name": "ipython",
        "version": 3
      },
      "file_extension": ".py",
      "mimetype": "text/x-python",
      "name": "python",
      "nbconvert_exporter": "python",
      "pygments_lexer": "ipython3",
      "version": "3.7.2"
    },
    "toc-autonumbering": false,
    "toc-showcode": true,
    "toc-showmarkdowntxt": false,
    "toc-showtags": false
  },
  "nbformat": 4,
  "nbformat_minor": 0
}
