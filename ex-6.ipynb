{
 "cells": [
  {
   "attachments": {},
   "cell_type": "markdown",
   "metadata": {},
   "source": [
    "# Complex Network Analysis - Part 6\n",
    "## Master in BigData: SNA Lab - Exercises\n",
    "\n",
    "This notebook contains exercises on complex network analysis and graph modeling using NetworkX.\n",
    "\n",
    "**Prerequisites:**\n",
    "- `facebook.ncol` file should be available in the working directory\n",
    "- All required libraries should be installed"
   ]
  },
  {
   "cell_type": "code",
   "execution_count": 4,
   "metadata": {},
   "outputs": [
    {
     "name": "stdout",
     "output_type": "stream",
     "text": [
      "Libraries imported successfully!\n"
     ]
    }
   ],
   "source": [
    "# Import required libraries\n",
    "import networkx as nx\n",
    "import numpy as np\n",
    "import matplotlib.pyplot as plt\n",
    "from collections import Counter\n",
    "import random\n",
    "import warnings\n",
    "warnings.filterwarnings('ignore')\n",
    "\n",
    "# Set matplotlib to display plots inline\n",
    "%matplotlib inline\n",
    "\n",
    "# Set random seed for reproducibility\n",
    "random.seed(42)\n",
    "np.random.seed(42)\n",
    "\n",
    "print(\"Libraries imported successfully!\")"
   ]
  },
  {
   "attachments": {},
   "cell_type": "markdown",
   "metadata": {},
   "source": [
    "# Part 6. Assortativity, clustering, centrality, path length"
   ]
  },
  {
   "cell_type": "markdown",
   "metadata": {},
   "source": [
    "## Exercise 1: Assortativity\n",
    "Load the Karate Club graph and compute the degree assortativity coefficient. \n"
   ]
  },
  {
   "cell_type": "code",
   "execution_count": null,
   "metadata": {},
   "outputs": [],
   "source": []
  },
  {
   "cell_type": "markdown",
   "metadata": {},
   "source": [
    "Create a copy of the graph with g.copy() and store it in a new variable.\n",
    "\n",
    "Remove all edges where both nodes have degre >= 5\n",
    "Recalculate the assortativity coefficient\n",
    "How and why the assortativity changed?"
   ]
  },
  {
   "cell_type": "code",
   "execution_count": null,
   "metadata": {},
   "outputs": [],
   "source": []
  },
  {
   "cell_type": "markdown",
   "metadata": {},
   "source": []
  },
  {
   "cell_type": "markdown",
   "metadata": {},
   "source": [
    "## Exercise 2: Multi-Centrality analysis\n",
    "- Compute centrality measures (degree, closeness, betweenness)\n",
    "- Find the top 5 nodes for each centrality measure \n",
    "- Create a comparison DataFrame showing which nodes appear in multiple \"top 5\" lists"
   ]
  },
  {
   "cell_type": "code",
   "execution_count": null,
   "metadata": {},
   "outputs": [],
   "source": []
  },
  {
   "cell_type": "markdown",
   "metadata": {},
   "source": [
    "Now, remove the most central node (only one) according to betweenness **from a copy of the graph**. Is the graph still connected? "
   ]
  },
  {
   "cell_type": "code",
   "execution_count": null,
   "metadata": {},
   "outputs": [],
   "source": []
  },
  {
   "cell_type": "markdown",
   "metadata": {},
   "source": [
    "Calculate average shortest path length on the original graph.\n",
    "Then, find the largest connected component of the second graph and compute its avg shortest path length."
   ]
  },
  {
   "cell_type": "code",
   "execution_count": null,
   "metadata": {},
   "outputs": [],
   "source": []
  },
  {
   "cell_type": "markdown",
   "metadata": {},
   "source": [
    "\n",
    "## Exercise 3: Clustering\n",
    "Load the facebook network. Compute clustering values for all nodes. Plot a histogram showing the clustering distribution"
   ]
  },
  {
   "cell_type": "code",
   "execution_count": null,
   "metadata": {},
   "outputs": [],
   "source": []
  },
  {
   "cell_type": "markdown",
   "metadata": {},
   "source": [
    "Who are the nodes with high/low clustering? Make a scatterplot with node degrees on the X axis and clustering coefficients on the y axis\n"
   ]
  },
  {
   "cell_type": "code",
   "execution_count": null,
   "metadata": {},
   "outputs": [],
   "source": []
  },
  {
   "cell_type": "markdown",
   "metadata": {},
   "source": [
    "## Exercise 4: Local vs. Global homophily\n",
    "\n",
    "On the Karate Club graph:\n",
    "- compute attribute assortativity on the 'club' attribute with  nx.attribute_assortativity_coefficient(G, 'club')\n",
    "- write a function that inputs the graph and a node, and outputs the fraction of neighbors with the same attribute value of the node. Recall that you can access node n's attribute with g.nodes[n].get(attribute_name)\n",
    "- test it on node 0, which should output 0.94"
   ]
  },
  {
   "cell_type": "code",
   "execution_count": 32,
   "metadata": {},
   "outputs": [
    {
     "name": "stdout",
     "output_type": "stream",
     "text": [
      "Attribute assortativity (club): 0.7175\n",
      "Fraction of neighbors of node 0 with the same club: 0.94\n"
     ]
    }
   ],
   "source": [
    "G = nx.karate_club_graph()\n",
    "# Compute attribute assortativity for the Karate Club graph\n",
    "# The attribute is 'club' (either 'Mr. Hi' or 'Officer')\n",
    "attribute_assortativity = nx.attribute_assortativity_coefficient(G, 'club')\n",
    "print(f\"Attribute assortativity (club): {attribute_assortativity:.4f}\")\n",
    "\n",
    "# Function to compute local homophily for a given node\n",
    "def local_homophily(graph, node, attribute):\n",
    "    node_value = graph.nodes[node].get(attribute)\n",
    "    neighbors = list(graph.neighbors(node))\n",
    "    neigh_attrs = [graph.nodes[n].get(attribute) for n in neighbors]\n",
    "    same = sum(1 for attr in neigh_attrs if attr == node_value)\n",
    "    return same / len(neighbors)\n",
    "\n",
    "# Example usage: compute local homophily for node 0\n",
    "fraction_same_club = local_homophily(G, 0, 'club')\n",
    "print(f\"Fraction of neighbors of node 0 with the same club: {fraction_same_club:.2f}\")"
   ]
  },
  {
   "cell_type": "markdown",
   "metadata": {},
   "source": [
    "Compute it for all nodes and plot a histogram with the distribution of local homophily."
   ]
  },
  {
   "cell_type": "code",
   "execution_count": 35,
   "metadata": {},
   "outputs": [
    {
     "data": {
      "image/png": "[encoded data removed]",
      "text/plain": [
       "<Figure size 300x300 with 1 Axes>"
      ]
     },
     "metadata": {},
     "output_type": "display_data"
    }
   ],
   "source": [
    "# Compute local homophily for all nodes in the Karate Club graph\n",
    "local_homophily_values = [\n",
    "    local_homophily(G, node, 'club') for node in G.nodes()\n",
    "]\n",
    "\n",
    "# Plot histogram of local homophily values\n",
    "plt.figure(figsize=(3, 3))\n",
    "plt.hist(local_homophily_values, bins=10, edgecolor='black')\n",
    "plt.xlabel(\"fraction of same club neighbors\")\n",
    "plt.ylabel(\"# Nodes\")\n",
    "plt.tight_layout()\n",
    "plt.show()"
   ]
  }
 ],
 "metadata": {
  "kernelspec": {
   "display_name": "base",
   "language": "python",
   "name": "python3"
  },
  "language_info": {
   "codemirror_mode": {
    "name": "ipython",
    "version": 3
   },
   "file_extension": ".py",
   "mimetype": "text/x-python",
   "name": "python",
   "nbconvert_exporter": "python",
   "pygments_lexer": "ipython3",
   "version": "3.11.8"
  }
 },
 "nbformat": 4,
 "nbformat_minor": 2
}
