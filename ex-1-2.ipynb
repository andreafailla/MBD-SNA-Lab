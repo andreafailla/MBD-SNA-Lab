{
 "cells": [
  {
   "cell_type": "markdown",
   "metadata": {},
   "source": [
    "# Complex Network Analysis - Parts 1 & 2\n",
    "## Master in BigData: SNA Lab - Exercises\n",
    "\n",
    "This notebook contains exercises on complex network analysis and graph modeling using NetworkX.\n",
    "\n",
    "**Prerequisites:**\n",
    "- `facebook.ncol` file should be available in the working directory\n",
    "- All required libraries should be installed"
   ]
  },
  {
   "cell_type": "code",
   "execution_count": 20,
   "metadata": {},
   "outputs": [
    {
     "name": "stdout",
     "output_type": "stream",
     "text": [
      "Libraries imported successfully!\n"
     ]
    }
   ],
   "source": [
    "# Import required libraries\n",
    "import networkx as nx\n",
    "import numpy as np\n",
    "import matplotlib.pyplot as plt\n",
    "from collections import Counter\n",
    "import random\n",
    "import warnings\n",
    "warnings.filterwarnings('ignore')\n",
    "\n",
    "# Set matplotlib to display plots inline\n",
    "%matplotlib inline\n",
    "\n",
    "# Set random seed for reproducibility\n",
    "random.seed(42)\n",
    "np.random.seed(42)\n",
    "\n",
    "print(\"Libraries imported successfully!\")"
   ]
  },
  {
   "cell_type": "markdown",
   "metadata": {},
   "source": [
    "# Part 1: Reading graphs from files / writing graphs to files + graph basics"
   ]
  },
  {
   "cell_type": "markdown",
   "metadata": {},
   "source": [
    "## Exercise 1: Graph Reading and Types\n",
    "Load the Facebook dataset as both undirected and directed graphs. Compare the number of edges in each case and explain why they differ."
   ]
  },
  {
   "cell_type": "code",
   "execution_count": null,
   "metadata": {},
   "outputs": [],
   "source": []
  },
  {
   "cell_type": "markdown",
   "id": "2463706e",
   "metadata": {},
   "source": [
    "Create a small test graph with 5 nodes and save it in three different formats: .ncol, .pajek, and .gml. Load each format back and verify they contain the same information.\n",
    "Hint: you can use <code>nx.is_isomorphic(g1, g2)</code> to che if two graphs are identical"
   ]
  },
  {
   "cell_type": "code",
   "execution_count": null,
   "metadata": {},
   "outputs": [],
   "source": []
  },
  {
   "cell_type": "markdown",
   "metadata": {},
   "source": [
    "## Exercise 2: Graph Properties Exploration\n",
    "For the Facebook graph, calculate and compare the number of nodes and edges in both directed and undirected versions. Find the node with the highest in-degree and out-degree."
   ]
  },
  {
   "cell_type": "code",
   "execution_count": null,
   "metadata": {},
   "outputs": [],
   "source": []
  },
  {
   "cell_type": "code",
   "execution_count": null,
   "id": "b8181c60",
   "metadata": {},
   "outputs": [],
   "source": []
  },
  {
   "cell_type": "markdown",
   "metadata": {},
   "source": [
    "## Exercise 3: Node and Edge Manipulation\n",
    "Extract all neighbors of node \"872\" from the undirected Facebook graph. How many neighbors does it have?"
   ]
  },
  {
   "cell_type": "code",
   "execution_count": null,
   "metadata": {},
   "outputs": [],
   "source": []
  },
  {
   "cell_type": "markdown",
   "id": "83962fa8",
   "metadata": {},
   "source": [
    "List all outgoing edges from node \"872\" in the directed Facebook graph and all incoming edges to the same node."
   ]
  },
  {
   "cell_type": "code",
   "execution_count": null,
   "id": "6c126097",
   "metadata": {},
   "outputs": [],
   "source": []
  },
  {
   "cell_type": "markdown",
   "id": "8156269a",
   "metadata": {},
   "source": [
    "\n",
    "Write a function that checks if there exists a bidirectional connection between nodes \"n1\" and \"n2\". The function returns True if there is an edge from n1 to n2 and from n2 to n1. It returns False otherwise. Test it on the directed facebook graph.\n",
    "- 2 <-> 3: True\n",
    "- 872 <-> 3: False"
   ]
  },
  {
   "cell_type": "code",
   "execution_count": null,
   "id": "85faac65",
   "metadata": {},
   "outputs": [],
   "source": []
  },
  {
   "cell_type": "markdown",
   "metadata": {},
   "source": [
    "## Exercise 4: Edge Weights Analysis\n",
    "Extract edges with their weights from the directed Facebook graph. What is the range of weights?"
   ]
  },
  {
   "cell_type": "code",
   "execution_count": null,
   "id": "c8654b35",
   "metadata": {},
   "outputs": [],
   "source": []
  },
  {
   "cell_type": "markdown",
   "id": "2cd1ea16",
   "metadata": {},
   "source": [
    "Find all edges with weight greater than 5. How many such edges exist? Compute the ratio over the total number of edges."
   ]
  },
  {
   "cell_type": "code",
   "execution_count": null,
   "id": "db920477",
   "metadata": {},
   "outputs": [],
   "source": []
  },
  {
   "cell_type": "markdown",
   "id": "7acd29ed",
   "metadata": {},
   "source": [
    "Create a histogram to show the edge weight distribution."
   ]
  },
  {
   "cell_type": "code",
   "execution_count": null,
   "metadata": {},
   "outputs": [],
   "source": []
  },
  {
   "cell_type": "markdown",
   "metadata": {},
   "source": [
    "## Exercise 5: Directed vs Undirected Comparison\n",
    "Create a toy directed graph and observe the behavior when converting to undirected."
   ]
  },
  {
   "cell_type": "code",
   "execution_count": null,
   "metadata": {},
   "outputs": [],
   "source": []
  },
  {
   "cell_type": "code",
   "execution_count": null,
   "id": "ac1f4cef",
   "metadata": {},
   "outputs": [],
   "source": []
  },
  {
   "cell_type": "markdown",
   "metadata": {},
   "source": [
    "# Part 2: Connected components, Giant Component & Subgraphs"
   ]
  },
  {
   "cell_type": "markdown",
   "id": "94a45b3e",
   "metadata": {},
   "source": [
    "## Exercise 6: \n",
    "For the Facebook graph, calculate the number of weakly connected components and strongly connected components. Why is there such a difference?"
   ]
  },
  {
   "cell_type": "code",
   "execution_count": null,
   "id": "222a9124",
   "metadata": {},
   "outputs": [],
   "source": []
  },
  {
   "cell_type": "markdown",
   "metadata": {},
   "source": [
    "## Exercise 7: Connected Components Exploration\n",
    "Find all weakly connected components in the Facebook graph and list the sizes of the 10 largest components."
   ]
  },
  {
   "cell_type": "code",
   "execution_count": null,
   "metadata": {},
   "outputs": [],
   "source": []
  },
  {
   "cell_type": "markdown",
   "id": "866e599e",
   "metadata": {},
   "source": [
    "Calculate what percentage of nodes belongs to the Giant Component of the Facebook graph."
   ]
  },
  {
   "cell_type": "code",
   "execution_count": null,
   "id": "7b4f1818",
   "metadata": {},
   "outputs": [],
   "source": []
  },
  {
   "cell_type": "markdown",
   "id": "dc21067d",
   "metadata": {},
   "source": [
    "## Exercise 8: Subgraph analysis\n",
    "Create three different subgraphs of the Facebook Giant Component:\n",
    "\n",
    "- Nodes with degree > 150\n",
    "- Nodes with degree between 51-150\n",
    "- Nodes with degree < 50\n",
    "\n",
    "\n",
    "Compare the number of connected components in each subgraph and explain the pattern."
   ]
  },
  {
   "cell_type": "code",
   "execution_count": null,
   "id": "c0917f16",
   "metadata": {},
   "outputs": [],
   "source": []
  },
  {
   "cell_type": "markdown",
   "id": "230a6fb8",
   "metadata": {},
   "source": []
  },
  {
   "cell_type": "markdown",
   "id": "83bd8e39",
   "metadata": {},
   "source": [
    "# Exercise 9: Random Failures vs. Targeted Attacks\n",
    "Load the karate club graph via <code>nx.karate_club_graph()</code>. It consists of one component with 34 nodes and 78 edges.\n",
    "Pick 5 random nodes and remove them. Compute the number of connected components."
   ]
  },
  {
   "cell_type": "code",
   "execution_count": null,
   "id": "79f6cde3",
   "metadata": {},
   "outputs": [],
   "source": []
  },
  {
   "cell_type": "markdown",
   "id": "eafafd6c",
   "metadata": {},
   "source": [
    "Reload the complete karate club graph. Now, remove the 5 highest degree nodes. What happens?"
   ]
  },
  {
   "cell_type": "code",
   "execution_count": null,
   "id": "705294df",
   "metadata": {},
   "outputs": [],
   "source": []
  },
  {
   "cell_type": "code",
   "execution_count": null,
   "id": "6cbb5b4a",
   "metadata": {},
   "outputs": [],
   "source": []
  }
 ],
 "metadata": {
  "kernelspec": {
   "display_name": "Python 3",
   "language": "python",
   "name": "python3"
  },
  "language_info": {
   "codemirror_mode": {
    "name": "ipython",
    "version": 3
   },
   "file_extension": ".py",
   "mimetype": "text/x-python",
   "name": "python",
   "nbconvert_exporter": "python",
   "pygments_lexer": "ipython3",
   "version": "3.9.20"
  }
 },
 "nbformat": 4,
 "nbformat_minor": 5
}
