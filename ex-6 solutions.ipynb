{
 "cells": [
  {
   "attachments": {},
   "cell_type": "markdown",
   "metadata": {},
   "source": [
    "# Complex Network Analysis - Part 6\n",
    "## Master in BigData: SNA Lab - Exercises\n",
    "\n",
    "This notebook contains exercises on complex network analysis and graph modeling using NetworkX.\n",
    "\n",
    "**Prerequisites:**\n",
    "- `facebook.ncol` file should be available in the working directory\n",
    "- All required libraries should be installed"
   ]
  },
  {
   "cell_type": "code",
   "execution_count": 1,
   "metadata": {},
   "outputs": [
    {
     "name": "stdout",
     "output_type": "stream",
     "text": [
      "Libraries imported successfully!\n"
     ]
    }
   ],
   "source": [
    "# Import required libraries\n",
    "import networkx as nx\n",
    "import numpy as np\n",
    "import matplotlib.pyplot as plt\n",
    "from collections import Counter\n",
    "import random\n",
    "import warnings\n",
    "warnings.filterwarnings('ignore')\n",
    "\n",
    "# Set matplotlib to display plots inline\n",
    "%matplotlib inline\n",
    "\n",
    "# Set random seed for reproducibility\n",
    "random.seed(42)\n",
    "np.random.seed(42)\n",
    "\n",
    "print(\"Libraries imported successfully!\")"
   ]
  },
  {
   "attachments": {},
   "cell_type": "markdown",
   "metadata": {},
   "source": [
    "# Part 6. Assortativity, clustering, centrality, path length"
   ]
  },
  {
   "cell_type": "markdown",
   "metadata": {},
   "source": [
    "## Exercise 1: Assortativity\n",
    "Load the Karate Club graph and compute the degree assortativity coefficient. \n"
   ]
  },
  {
   "cell_type": "code",
   "execution_count": 5,
   "metadata": {},
   "outputs": [],
   "source": [
    "# Load the Karate Club graph \n",
    "G = nx.karate_club_graph()\n",
    "\n",
    "# Compute the assortativity coefficient \n",
    "original_assortativity = nx.degree_assortativity_coefficient(G)\n"
   ]
  },
  {
   "cell_type": "markdown",
   "metadata": {},
   "source": [
    "Create a copy of the graph with g.copy() and store it in a new variable.\n",
    "\n",
    "Remove all edges where both nodes have degre >= 5\n",
    "Recalculate the assortativity coefficient\n",
    "How and why the assortativity changed?"
   ]
  },
  {
   "cell_type": "code",
   "execution_count": 6,
   "metadata": {},
   "outputs": [
    {
     "name": "stdout",
     "output_type": "stream",
     "text": [
      "Original Assortativity Coefficient: -0.4756\n",
      "Assortativity Coefficient (after removing edges): -0.4417\n"
     ]
    }
   ],
   "source": [
    "degree_threshold = 5\n",
    "G_modified = G.copy()\n",
    "edges_to_remove = [(u, v) for u, v in G_modified.edges() if G.degree[u] >= degree_threshold and G.degree[v] >= degree_threshold]\n",
    "G_modified.remove_edges_from(edges_to_remove)\n",
    "\n",
    "# Recalculate assortativity after edge removal\n",
    "modified_assortativity = nx.degree_assortativity_coefficient(G_modified)\n",
    "\n",
    "print(f\"Original Assortativity Coefficient: {original_assortativity:.4f}\")\n",
    "print(f\"Assortativity Coefficient (after removing edges): {modified_assortativity:.4f}\")"
   ]
  },
  {
   "cell_type": "markdown",
   "metadata": {},
   "source": [
    "This may seem counterintuitive!\n",
    "\n",
    "You might expect more high–low connections = more disassortativity.\n",
    "Actually, removing the high–high connections reduces the degree correlation variability. In the assortativity formula, this can reduce the overall negative correlation slightly, leading to a less negative value (closer to zero).\n",
    "\n",
    "In short:\n",
    "\n",
    "By removing the few edges that counteracted the disassortative trend, you reduce overall variability, which paradoxically softens the disassortativity slightly."
   ]
  },
  {
   "cell_type": "markdown",
   "metadata": {},
   "source": [
    "## Exercise 2: Multi-Centrality analysis\n",
    "- Compute centrality measures (degree, closeness, betweenness)\n",
    "- Find the top 5 nodes for each centrality measure \n",
    "- Create a comparison DataFrame showing which nodes appear in multiple \"top 5\" lists"
   ]
  },
  {
   "cell_type": "code",
   "execution_count": null,
   "metadata": {},
   "outputs": [
    {
     "data": {
      "text/html": [
       "<div>\n",
       "<style scoped>\n",
       "    .dataframe tbody tr th:only-of-type {\n",
       "        vertical-align: middle;\n",
       "    }\n",
       "\n",
       "    .dataframe tbody tr th {\n",
       "        vertical-align: top;\n",
       "    }\n",
       "\n",
       "    .dataframe thead th {\n",
       "        text-align: right;\n",
       "    }\n",
       "</style>\n",
       "<table border=\"1\" class=\"dataframe\">\n",
       "  <thead>\n",
       "    <tr style=\"text-align: right;\">\n",
       "      <th></th>\n",
       "      <th>Degree Centrality</th>\n",
       "      <th>Closeness Centrality</th>\n",
       "      <th>Betweenness Centrality</th>\n",
       "    </tr>\n",
       "  </thead>\n",
       "  <tbody>\n",
       "    <tr>\n",
       "      <th>1</th>\n",
       "      <td>33</td>\n",
       "      <td>0</td>\n",
       "      <td>0</td>\n",
       "    </tr>\n",
       "    <tr>\n",
       "      <th>2</th>\n",
       "      <td>0</td>\n",
       "      <td>2</td>\n",
       "      <td>33</td>\n",
       "    </tr>\n",
       "    <tr>\n",
       "      <th>3</th>\n",
       "      <td>32</td>\n",
       "      <td>33</td>\n",
       "      <td>32</td>\n",
       "    </tr>\n",
       "    <tr>\n",
       "      <th>4</th>\n",
       "      <td>2</td>\n",
       "      <td>31</td>\n",
       "      <td>2</td>\n",
       "    </tr>\n",
       "    <tr>\n",
       "      <th>5</th>\n",
       "      <td>1</td>\n",
       "      <td>8</td>\n",
       "      <td>31</td>\n",
       "    </tr>\n",
       "  </tbody>\n",
       "</table>\n",
       "</div>"
      ],
      "text/plain": [
       "   Degree Centrality  Closeness Centrality  Betweenness Centrality\n",
       "1                 33                     0                       0\n",
       "2                  0                     2                      33\n",
       "3                 32                    33                      32\n",
       "4                  2                    31                       2\n",
       "5                  1                     8                      31"
      ]
     },
     "execution_count": 7,
     "metadata": {},
     "output_type": "execute_result"
    }
   ],
   "source": [
    "import pandas as pd\n",
    "\n",
    "# Compute centrality measures\n",
    "degree_centrality = nx.degree_centrality(G)\n",
    "closeness_centrality = nx.closeness_centrality(G)\n",
    "betweenness_centrality = nx.betweenness_centrality(G)\n",
    "\n",
    "# Get top 5 nodes for each centrality\n",
    "def get_top_n(centrality_dict, n=5):\n",
    "    return sorted(centrality_dict.items(), key=lambda x: x[1], reverse=True)[:n]\n",
    "\n",
    "top_degree = get_top_n(degree_centrality)\n",
    "top_closeness = get_top_n(closeness_centrality)\n",
    "top_betweenness = get_top_n(betweenness_centrality)\n",
    "\n",
    "# Create a DataFrame to display the top nodes for each centrality measure\n",
    "top_nodes = pd.DataFrame(index=range(1, 6))\n",
    "top_nodes['Degree Centrality'] = [node for node, _ in top_degree]\n",
    "top_nodes['Closeness Centrality'] = [node for node, _ in top_closeness]\n",
    "top_nodes['Betweenness Centrality'] = [node for node, _ in top_betweenness]\n",
    "\n",
    "top_nodes"
   ]
  },
  {
   "cell_type": "markdown",
   "metadata": {},
   "source": [
    "now, remove the most central node according to betweenness **from a copy of the graph**. Is the graph still connected? "
   ]
  },
  {
   "cell_type": "code",
   "execution_count": 8,
   "metadata": {},
   "outputs": [
    {
     "name": "stdout",
     "output_type": "stream",
     "text": [
      "Is the graph still connected after removing node 0? False\n"
     ]
    }
   ],
   "source": [
    "most_central_node = 0\n",
    "\n",
    "# Remove the most central node from a copy of the graph\n",
    "G_removed = G.copy()\n",
    "G_removed.remove_node(most_central_node)\n",
    "\n",
    "# Check if the graph is still connected\n",
    "is_connected = nx.is_connected(G_removed)\n",
    "print(f\"Is the graph still connected after removing node {most_central_node}? {is_connected}\")"
   ]
  },
  {
   "cell_type": "markdown",
   "metadata": {},
   "source": [
    "Calculate average shortest path length on the original graph.\n",
    "Then, find the largest connected component of the second graph and compute its avg shortest path length."
   ]
  },
  {
   "cell_type": "code",
   "execution_count": 19,
   "metadata": {},
   "outputs": [
    {
     "name": "stdout",
     "output_type": "stream",
     "text": [
      "Average shortest path length: 2.4082\n",
      "Average shortest path length in the largest connected component after removal: 2.2792\n"
     ]
    }
   ],
   "source": [
    "\n",
    "# Calculate average shortest path length\n",
    "avg_shortest_path_length = nx.average_shortest_path_length(G)\n",
    "print(f\"Average shortest path length: {avg_shortest_path_length:.4f}\")\n",
    "\n",
    "# Calculate average shortest path length after removing the most central node\n",
    "lcc = max(nx.connected_components(G_removed), key=len)\n",
    "G_lcc = G_removed.subgraph(lcc)\n",
    "avg_shortest_path_length_lcc = nx.average_shortest_path_length(G_lcc)\n",
    "print(f\"Average shortest path length in the largest connected component after removal: {avg_shortest_path_length_lcc:.4f}\")"
   ]
  },
  {
   "cell_type": "markdown",
   "metadata": {},
   "source": [
    "\n",
    "## Exercise 3: Clustering\n",
    "Load the facebook network. Compute clustering values for all nodes. Plot a histogram showing the clustering distribution"
   ]
  },
  {
   "cell_type": "code",
   "execution_count": 30,
   "metadata": {},
   "outputs": [
    {
     "data": {
      "image/png": "[encoded data removed]",
      "text/plain": [
       "<Figure size 300x300 with 1 Axes>"
      ]
     },
     "metadata": {},
     "output_type": "display_data"
    }
   ],
   "source": [
    "G = nx.read_weighted_edgelist(\"facebook.ncol\", create_using=nx.Graph(), nodetype=int)\n",
    "clustering_coeffs = nx.clustering(G)\n",
    "\n",
    "# Create a histogram of clustering coefficients\n",
    "plt.figure(figsize=(3, 3))\n",
    "plt.hist(clustering_coeffs.values(), bins=30, edgecolor='black')\n",
    "\n",
    "plt.xlabel(\"Clustering Coefficient\")\n",
    "plt.ylabel(\"# Nodes\")\n",
    "plt.grid(True)\n",
    "plt.tight_layout()\n",
    "plt.show()\n"
   ]
  },
  {
   "cell_type": "markdown",
   "metadata": {},
   "source": [
    "Who are the nodes with high/low clustering? Make a scatterplot with node degrees on the X axis and clustering coefficients on the y axis\n"
   ]
  },
  {
   "cell_type": "code",
   "execution_count": 29,
   "metadata": {},
   "outputs": [
    {
     "data": {
      "image/png": "[encoded data removed]",
      "text/plain": [
       "<Figure size 500x400 with 1 Axes>"
      ]
     },
     "metadata": {},
     "output_type": "display_data"
    }
   ],
   "source": [
    "# Scatterplot of node degree vs. clustering coefficient\n",
    "degrees = [G.degree[node] for node in clustering_coeffs.keys()]\n",
    "clustering_values = list(clustering_coeffs.values())\n",
    "\n",
    "plt.figure(figsize=(5, 4))\n",
    "plt.scatter(degrees, clustering_values, alpha=0.5, s=10)\n",
    "plt.xlabel(\"Node Degree\")\n",
    "plt.ylabel(\"Clustering Coefficient\")\n",
    "plt.title(\"Degree vs. Clustering Coefficient\")\n",
    "plt.grid(True)\n",
    "plt.tight_layout()\n",
    "plt.show()"
   ]
  },
  {
   "cell_type": "markdown",
   "metadata": {},
   "source": [
    "## Exercise 4: Local vs. Global homophily\n",
    "\n",
    "On the Karate Club graph:\n",
    "- compute attribute assortativity on the 'club' attribute with  nx.attribute_assortativity_coefficient(G, 'club')\n",
    "- write a function that inputs the graph and a node, and outputs the fraction of neighbors with the same attribute value of the node. Recall that you can access node n's attribute with g.nodes[n].get(attribute_name)\n",
    "- test it on node 0, which should output 0.94"
   ]
  },
  {
   "cell_type": "code",
   "execution_count": 10,
   "metadata": {},
   "outputs": [
    {
     "name": "stdout",
     "output_type": "stream",
     "text": [
      "Attribute assortativity (club): 0.7175\n",
      "Fraction of neighbors of node 0 with the same club: 0.94\n"
     ]
    }
   ],
   "source": [
    "G = nx.karate_club_graph()\n",
    "# Compute attribute assortativity for the Karate Club graph\n",
    "# The attribute is 'club' (either 'Mr. Hi' or 'Officer')\n",
    "attribute_assortativity = nx.attribute_assortativity_coefficient(G, 'club')\n",
    "print(f\"Attribute assortativity (club): {attribute_assortativity:.4f}\")\n",
    "\n",
    "# Function to compute local homophily for a given node\n",
    "def local_homophily(graph, node, attribute):\n",
    "    node_value = graph.nodes[node].get(attribute)\n",
    "    neighbors = list(graph.neighbors(node))\n",
    "    neigh_attrs = [graph.nodes[n].get(attribute) for n in neighbors]\n",
    "    same = sum(1 for attr in neigh_attrs if attr == node_value)\n",
    "    return same / len(neighbors)\n",
    "\n",
    "# Example usage: compute local homophily for node 0\n",
    "fraction_same_club = local_homophily(G, 0, 'club')\n",
    "print(f\"Fraction of neighbors of node 0 with the same club: {fraction_same_club:.2f}\")"
   ]
  },
  {
   "cell_type": "markdown",
   "metadata": {},
   "source": [
    "Compute it for all nodes and plot a histogram with the distribution of local homophily."
   ]
  },
  {
   "cell_type": "code",
   "execution_count": 11,
   "metadata": {},
   "outputs": [
    {
     "data": {
      "image/png": "[encoded data removed]",
      "text/plain": [
       "<Figure size 300x300 with 1 Axes>"
      ]
     },
     "metadata": {},
     "output_type": "display_data"
    }
   ],
   "source": [
    "# Compute local homophily for all nodes in the Karate Club graph\n",
    "local_homophily_values = [\n",
    "    local_homophily(G, node, 'club') for node in G.nodes()\n",
    "]\n",
    "\n",
    "# Plot histogram of local homophily values\n",
    "plt.figure(figsize=(3, 3))\n",
    "plt.hist(local_homophily_values, bins=30, edgecolor='black')\n",
    "plt.xlabel(\"fraction of same club neighbors\")\n",
    "plt.ylabel(\"# Nodes\")\n",
    "plt.tight_layout()\n",
    "plt.show()"
   ]
  },
  {
   "cell_type": "code",
   "execution_count": null,
   "metadata": {},
   "outputs": [],
   "source": [
    "# --------------- dependencies ---------------\n",
    "# If you already have HyperGraphX installed you can switch the two commented lines\n",
    "# and let HGX handle the heavy lifting.  The fallback below relies only on NetworkX\n",
    "# so it will run in any standard Python / Jupyter environment.\n",
    "#\n",
    "# import hypergraphx as hgx\n",
    "# H_class = hgx.Hypergraph\n",
    "import itertools\n",
    "import networkx as nx\n",
    "import matplotlib.pyplot as plt\n",
    "import hypergraphx as hgx\n",
    "H_class = hgx.Hypergraph\n",
    "# --------------- the toy snapshots ---------------\n",
    "edges_t1 = [\n",
    "    {\"Alice\",\"Bob\",\"Carol\"},\n",
    "    {\"Alice\",\"Bob\",\"Dave\"},\n",
    "    {\"Bob\",\"Eve\"},\n",
    "    {\"Alice\",\"Frank\"},\n",
    "    {\"Alice\",\"Bob\",\"Carol\",\"Dave\"},\n",
    "    {\"Bob\",\"Carol\",\"Eve\",\"Frank\"},\n",
    "    {\"Alice\",\"Eve\",\"Greg\"},\n",
    "    {\"Henry\",\"Isla\"}\n",
    "]\n",
    "edges_t2 = [\n",
    "    {\"Alice\",\"Bob\",\"Carol\"},\n",
    "    {\"Alice\",\"Bob\",\"Dave\"},\n",
    "    {\"Bob\",\"Eve\"},\n",
    "    {\"Alice\",\"Frank\",\"Greg\"},\n",
    "    {\"Alice\",\"Bob\",\"Carol\",\"Eve\"},\n",
    "    {\"Bob\",\"Carol\",\"Eve\",\"Frank\"},\n",
    "    {\"Alice\",\"Eve\",\"Greg\"},\n",
    "    {\"Henry\",\"Isla\"}\n",
    "]\n",
    "edges_t3 = [\n",
    "    {\"Alice\",\"Bob\",\"Carol\"},\n",
    "    {\"Alice\",\"Bob\",\"Eve\"},\n",
    "    {\"Bob\",\"Eve\",\"Frank\"},\n",
    "    {\"Alice\",\"Greg\"},\n",
    "    {\"Alice\",\"Bob\",\"Dave\",\"Eve\"},\n",
    "    {\"Bob\",\"Carol\",\"Eve\",\"Frank\"},\n",
    "    {\"Alice\",\"Eve\",\"Frank\",\"Greg\"},\n",
    "    {\"Henry\",\"Isla\"}\n",
    "]\n",
    "snapshots = [edges_t1, edges_t2, edges_t3]\n",
    "titles     = [\"t₁ (first snapshot)\", \"t₂ (second snapshot)\", \"t₃ (third snapshot)\"]\n",
    "\n",
    "# --------------- layout (computed *once*) ---------------\n",
    "all_nodes = set().union(*[set().union(*s) for s in snapshots])\n",
    "layout_graph = nx.Graph()\n",
    "layout_graph.add_nodes_from(all_nodes)\n",
    "for edge in itertools.chain(*snapshots):\n",
    "    layout_graph.add_edges_from(itertools.combinations(edge, 2))  # clique-expansion just to guide the spring layout\n",
    "pos = nx.spring_layout(layout_graph, seed=42)  # fixed by seed → identical across all plots\n",
    "\n",
    "# --------------- drawing helper ---------------\n",
    "def draw_snapshot(edge_list, title):\n",
    "    \"\"\"\n",
    "    Very light-weight hypergraph visualisation:\n",
    "    * every hyperedge is drawn as the clique on its nodes\n",
    "      (good enough for didactic examples without installing extra libs)\n",
    "    \"\"\"\n",
    "    G = nx.Graph()\n",
    "    G.add_nodes_from(all_nodes)\n",
    "    for e in edge_list:\n",
    "        G.add_edges_from(itertools.combinations(e, 2))\n",
    "\n",
    "    plt.figure(figsize=(6,4))\n",
    "    nx.draw_networkx_nodes(G, pos, node_size=500)      # default matplotlib colours (no manual styling)\n",
    "    nx.draw_networkx_labels(G, pos, font_size=8)\n",
    "    nx.draw_networkx_edges(G, pos, alpha=.30)\n",
    "    plt.title(title)\n",
    "    plt.axis(\"off\")\n",
    "    plt.show()\n",
    "\n",
    "# --------------- render the three figures ---------------\n",
    "for edges, ttl in zip(snapshots, titles):\n",
    "    draw_snapshot(edges, ttl)\n"
   ]
  }
 ],
 "metadata": {
  "kernelspec": {
   "display_name": "base",
   "language": "python",
   "name": "python3"
  },
  "language_info": {
   "codemirror_mode": {
    "name": "ipython",
    "version": 3
   },
   "file_extension": ".py",
   "mimetype": "text/x-python",
   "name": "python",
   "nbconvert_exporter": "python",
   "pygments_lexer": "ipython3",
   "version": "3.11.8"
  }
 },
 "nbformat": 4,
 "nbformat_minor": 2
}
