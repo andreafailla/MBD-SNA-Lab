{
 "cells": [
  {
   "cell_type": "markdown",
   "metadata": {},
   "source": [
    "# Complex Network Analysis - Parts 1 & 2\n",
    "## Master in BigData: SNA Lab - Exercises (SOLUTIONS)\n",
    "\n",
    "This notebook contains exercises on complex network analysis and graph modeling using NetworkX.\n",
    "\n",
    "**Prerequisites:**\n",
    "- `facebook.ncol` file should be available in the working directory\n",
    "- All required libraries should be installed"
   ]
  },
  {
   "cell_type": "code",
   "execution_count": 1,
   "metadata": {},
   "outputs": [
    {
     "name": "stdout",
     "output_type": "stream",
     "text": [
      "Libraries imported successfully!\n"
     ]
    }
   ],
   "source": [
    "# Import required libraries\n",
    "import networkx as nx\n",
    "import numpy as np\n",
    "import matplotlib.pyplot as plt\n",
    "from collections import Counter\n",
    "import random\n",
    "import warnings\n",
    "warnings.filterwarnings('ignore')\n",
    "\n",
    "# Set matplotlib to display plots inline\n",
    "%matplotlib inline\n",
    "\n",
    "# Set random seed for reproducibility\n",
    "random.seed(42)\n",
    "np.random.seed(42)\n",
    "\n",
    "print(\"Libraries imported successfully!\")"
   ]
  },
  {
   "cell_type": "markdown",
   "metadata": {},
   "source": [
    "# Part 1: Reading graphs from files / writing graphs to files + graph basics"
   ]
  },
  {
   "cell_type": "markdown",
   "metadata": {},
   "source": [
    "## Exercise 1: Graph Reading and Types\n",
    "Load the Facebook dataset as both undirected and directed graphs. Compare the number of edges in each case and explain why they differ."
   ]
  },
  {
   "cell_type": "code",
   "execution_count": null,
   "metadata": {},
   "outputs": [
    {
     "name": "stdout",
     "output_type": "stream",
     "text": [
      "Undirected graph - Nodes: 45813, Edges: 183412\n",
      "Directed graph - Nodes: 45813, Edges: 264004\n",
      "\n",
      "Explanation: Directed graph has more edges because each undirected edge becomes two directed edges\n"
     ]
    }
   ],
   "source": [
    "# Load Facebook dataset as undirected and directed\n",
    "fg_undirected = nx.read_weighted_edgelist(\"facebook.ncol\")\n",
    "fg_directed = nx.read_weighted_edgelist(\"facebook.ncol\", create_using=nx.DiGraph)\n",
    "\n",
    "print(f\"Undirected graph - Nodes: {fg_undirected.number_of_nodes()}, Edges: {fg_undirected.number_of_edges()}\")\n",
    "print(f\"Directed graph - Nodes: {fg_directed.number_of_nodes()}, Edges: {fg_directed.number_of_edges()}\")\n",
    "print(\"\\nExplanation: Directed graph has more edges because each undirected edge becomes two directed edges\")\n",
    "\n"
   ]
  },
  {
   "cell_type": "markdown",
   "id": "2463706e",
   "metadata": {},
   "source": [
    "Create a small test graph with 5 nodes and save it in three different formats: .ncol, .pajek, and .gml. Load each format back and verify they contain the same information.\n",
    "Hint: you can use <code>nx.is_isomorphic(g1, g2)</code> to che if two graphs are identical"
   ]
  },
  {
   "cell_type": "code",
   "execution_count": null,
   "metadata": {},
   "outputs": [
    {
     "name": "stdout",
     "output_type": "stream",
     "text": [
      "Test graph saved in multiple formats:\n",
      "- test_graph.ncol (edge list format)\n",
      "- test_graph.pajek (Pajek format)\n",
      "- test_graph.gml (Graph Markup Language)\n",
      "\n",
      "Original edges: [('A', 'B', {'weight': 1.5}), ('A', 'E', {'weight': 1.0}), ('B', 'C', {'weight': 2.0}), ('C', 'D', {'weight': 0.5}), ('D', 'E', {'weight': 3.0})]\n",
      "Loaded edges: [('A', 'B', {'weight': 1.5}), ('A', 'E', {'weight': 1.0}), ('B', 'C', {'weight': 2.0}), ('E', 'D', {'weight': 3.0}), ('C', 'D', {'weight': 0.5})]\n",
      "Graphs are identical: True\n"
     ]
    }
   ],
   "source": [
    "# Create test graph and save in different formats\n",
    "G_test = nx.Graph()\n",
    "G_test.add_weighted_edges_from([('A', 'B', 1.5), ('B', 'C', 2.0), \n",
    "                                ('C', 'D', 0.5), ('D', 'E', 3.0), ('E', 'A', 1.0)])\n",
    "\n",
    "# Save in different formats\n",
    "nx.write_weighted_edgelist(G_test, \"test_graph.ncol\")\n",
    "nx.write_pajek(G_test, \"test_graph.pajek\")\n",
    "nx.write_gml(G_test, \"test_graph.gml\")\n",
    "\n",
    "print(\"Test graph saved in multiple formats:\")\n",
    "print(\"- test_graph.ncol (edge list format)\")\n",
    "print(\"- test_graph.pajek (Pajek format)\")\n",
    "print(\"- test_graph.gml (Graph Markup Language)\")\n",
    "\n",
    "# Verify by reading back\n",
    "G_test_loaded = nx.read_weighted_edgelist(\"test_graph.ncol\")\n",
    "print(f\"\\nOriginal edges: {list(G_test.edges(data=True))}\")\n",
    "print(f\"Loaded edges: {list(G_test_loaded.edges(data=True))}\")\n",
    "print(f\"Graphs are identical: {nx.is_isomorphic(G_test, G_test_loaded)}\")"
   ]
  },
  {
   "cell_type": "markdown",
   "metadata": {},
   "source": [
    "## Exercise 2: Graph Properties Exploration\n",
    "For the Facebook graph, calculate and compare the number of nodes and edges in both directed and undirected versions. Find the node with the highest in-degree and out-degree."
   ]
  },
  {
   "cell_type": "code",
   "execution_count": 4,
   "metadata": {},
   "outputs": [
    {
     "name": "stdout",
     "output_type": "stream",
     "text": [
      "=== Graph Properties Comparison ===\n",
      "Facebook undirected - Nodes: 45813, Edges: 183412\n",
      "Facebook directed - Nodes: 45813, Edges: 264004\n"
     ]
    }
   ],
   "source": [
    "fg_undirected = nx.read_weighted_edgelist(\"facebook.ncol\")\n",
    "fg_directed = nx.read_weighted_edgelist(\"facebook.ncol\", create_using=nx.DiGraph)\n",
    "\n",
    "print(\"=== Graph Properties Comparison ===\")\n",
    "print(f\"Facebook undirected - Nodes: {fg_undirected.number_of_nodes()}, Edges: {fg_undirected.number_of_edges()}\")\n",
    "print(f\"Facebook directed - Nodes: {fg_directed.number_of_nodes()}, Edges: {fg_directed.number_of_edges()}\")"
   ]
  },
  {
   "cell_type": "code",
   "execution_count": 5,
   "id": "b8181c60",
   "metadata": {},
   "outputs": [
    {
     "name": "stdout",
     "output_type": "stream",
     "text": [
      "\n",
      "Highest in-degree node: 2420 (degree: 199)\n",
      "Highest out-degree node: 6765 (degree: 157)\n",
      "Same node? False\n",
      "\n",
      "Average in-degree: 5.76\n",
      "Average out-degree: 5.76\n"
     ]
    }
   ],
   "source": [
    "# Find highest in-degree and aout-degree nodes\n",
    "in_degrees = dict(fg_directed.in_degree())\n",
    "out_degrees = dict(fg_directed.out_degree())\n",
    "\n",
    "max_in_node = max(in_degrees, key=in_degrees.get)\n",
    "max_out_node = max(out_degrees, key=out_degrees.get)\n",
    "\n",
    "print(f\"\\nHighest in-degree node: {max_in_node} (degree: {in_degrees[max_in_node]})\")\n",
    "print(f\"Highest out-degree node: {max_out_node} (degree: {out_degrees[max_out_node]})\")\n",
    "print(f\"Same node? {max_in_node == max_out_node}\")\n",
    "\n",
    "# Additional statistics\n",
    "print(f\"\\nAverage in-degree: {np.mean(list(in_degrees.values())):.2f}\")\n",
    "print(f\"Average out-degree: {np.mean(list(out_degrees.values())):.2f}\")"
   ]
  },
  {
   "cell_type": "markdown",
   "metadata": {},
   "source": [
    "## Exercise 3: Node and Edge Manipulation\n",
    "Extract all neighbors of node \"872\" from the undirected Facebook graph. How many neighbors does it have?"
   ]
  },
  {
   "cell_type": "code",
   "execution_count": null,
   "metadata": {},
   "outputs": [
    {
     "name": "stdout",
     "output_type": "stream",
     "text": [
      "Node 872 has 12 neighbors.\n"
     ]
    }
   ],
   "source": [
    "node = '872'  # Example node from the dataset\n",
    "neighs_872 = list(fg_undirected.neighbors(node))\n",
    "print(f\"Node 872 has {len(neighs_872)} neighbors.\")"
   ]
  },
  {
   "cell_type": "markdown",
   "id": "83962fa8",
   "metadata": {},
   "source": [
    "List all outgoing edges from node \"872\" in the directed Facebook graph and all incoming edges to the same node."
   ]
  },
  {
   "cell_type": "code",
   "execution_count": 7,
   "id": "6c126097",
   "metadata": {},
   "outputs": [
    {
     "name": "stdout",
     "output_type": "stream",
     "text": [
      "\n",
      "Node 872:\n",
      "  Outgoing edges: 11\n",
      "  Incoming edges: 7\n",
      "\n",
      "Outgoing edges:\n",
      "  872 -> 873\n",
      "  872 -> 2290\n",
      "  872 -> 2712\n",
      "  872 -> 4197\n",
      "  872 -> 9207\n",
      "  872 -> 10501\n",
      "  872 -> 10609\n",
      "  872 -> 18086\n",
      "  872 -> 31428\n",
      "  872 -> 36892\n",
      "  872 -> 37757\n",
      "\n",
      "Incoming edges:\n",
      "  2 <- 872\n",
      "  873 <- 872\n",
      "  9207 <- 872\n",
      "  10609 <- 872\n",
      "  18086 <- 872\n",
      "  31428 <- 872\n",
      "  36892 <- 872\n"
     ]
    }
   ],
   "source": [
    "# Outgoing and incoming edges for a node\n",
    "out_edges = list(fg_directed.out_edges(node))\n",
    "in_edges = list(fg_directed.in_edges(node))\n",
    "print(f\"\\nNode {node}:\")\n",
    "print(f\"  Outgoing edges: {len(out_edges)}\")\n",
    "print(f\"  Incoming edges: {len(in_edges)}\")\n",
    "\n",
    "print(\"\\nOutgoing edges:\")\n",
    "for u, v in out_edges:\n",
    "    print(f\"  {u} -> {v}\")\n",
    "print(\"\\nIncoming edges:\")\n",
    "for u, v in in_edges:\n",
    "    print(f\"  {u} <- {v}\")"
   ]
  },
  {
   "cell_type": "markdown",
   "id": "8156269a",
   "metadata": {},
   "source": [
    "\n",
    "Write a function that checks if there exists a bidirectional connection between nodes \"n1\" and \"n2\". The function returns True if there is an edge from n1 to n2 and from n2 to n1. It returns False otherwise. Test it on the directed facebook graph.\n",
    "- 2 <-> 3: True\n",
    "- 872 <-> 3: False"
   ]
  },
  {
   "cell_type": "code",
   "execution_count": 8,
   "id": "85faac65",
   "metadata": {},
   "outputs": [
    {
     "name": "stdout",
     "output_type": "stream",
     "text": [
      "\n",
      "Bidirectional edge between 2 and 3: True\n",
      "Bidirectional edge between 872 and 3: False\n"
     ]
    }
   ],
   "source": [
    "def has_bidirectional_edge(n1, n2):\n",
    "    \"\"\"Check if there is a bidirectional edge between n1 and n2.\"\"\"\n",
    "    return fg_directed.has_edge(n1, n2) and fg_directed.has_edge(n2, n1)\n",
    "\n",
    "# test on 2, 3\n",
    "print(f\"\\nBidirectional edge between 2 and 3: {has_bidirectional_edge('2', '3')}\")\n",
    "# test on 872, 3\n",
    "print(f\"Bidirectional edge between 872 and 3: {has_bidirectional_edge('872', '3')}\")"
   ]
  },
  {
   "cell_type": "markdown",
   "metadata": {},
   "source": [
    "## Exercise 4: Edge Weights Analysis\n",
    "Extract edges with their weights from the directed Facebook graph. What is the range of weights?"
   ]
  },
  {
   "cell_type": "code",
   "execution_count": 9,
   "id": "c8654b35",
   "metadata": {},
   "outputs": [
    {
     "name": "stdout",
     "output_type": "stream",
     "text": [
      "\n",
      "Total edges in directed graph: 264004\n",
      "Minimum edge weight: 1.0\n",
      "Maximum edge weight: 742.0\n"
     ]
    }
   ],
   "source": [
    "edges = list(fg_directed.edges())\n",
    "print(f\"\\nTotal edges in directed graph: {len(edges)}\")\n",
    "\n",
    "min_weight = min(fg_directed[u][v]['weight'] for u, v in edges)\n",
    "max_weight = max(fg_directed[u][v]['weight'] for u, v in edges)\n",
    "print(f\"Minimum edge weight: {min_weight}\")\n",
    "print(f\"Maximum edge weight: {max_weight}\")"
   ]
  },
  {
   "cell_type": "markdown",
   "id": "2cd1ea16",
   "metadata": {},
   "source": [
    "Find all edges with weight greater than 5. How many such edges exist? Compute the ratio over the total number of edges."
   ]
  },
  {
   "cell_type": "code",
   "execution_count": 10,
   "id": "db920477",
   "metadata": {},
   "outputs": [
    {
     "name": "stdout",
     "output_type": "stream",
     "text": [
      "\n",
      "Edges with weight > 5: 30574\n",
      "Ratio of edges with weight > 5: 11.58%\n"
     ]
    }
   ],
   "source": [
    "# all edges with weight > 5\n",
    "wm5 = []\n",
    "for u, v, d in fg_directed.edges(data=True):\n",
    "    if d['weight'] > 5:\n",
    "        wm5.append((u, v, d['weight']))\n",
    "print(f\"\\nEdges with weight > 5: {len(wm5)}\")\n",
    "ratio = len(wm5) / len(edges)\n",
    "print(f\"Ratio of edges with weight > 5: {ratio:.2%}\")"
   ]
  },
  {
   "cell_type": "markdown",
   "id": "7acd29ed",
   "metadata": {},
   "source": [
    "Create a histogram to show the edge weight distribution."
   ]
  },
  {
   "cell_type": "code",
   "execution_count": 11,
   "metadata": {},
   "outputs": [
    {
     "data": {
      "image/png": "[encoded data removed]",
      "text/plain": [
       "<Figure size 1200x500 with 2 Axes>"
      ]
     },
     "metadata": {},
     "output_type": "display_data"
    },
    {
     "name": "stdout",
     "output_type": "stream",
     "text": [
      "\n",
      "Weight statistics:\n",
      "Mean: 3.24\n",
      "Median: 1.00\n",
      "Std: 8.24\n"
     ]
    }
   ],
   "source": [
    "all_weights = [data.get('weight', 1) for _, _, data in fg_directed.edges(data=True)]\n",
    "\n",
    "# Create histogram\n",
    "plt.figure(figsize=(12, 5))\n",
    "\n",
    "plt.subplot(1, 2, 1)\n",
    "plt.hist(all_weights, bins=30, alpha=0.7, color='skyblue', edgecolor='black')\n",
    "plt.xlabel('Edge Weight')\n",
    "plt.ylabel('Frequency')\n",
    "plt.title('Distribution of Edge Weights')\n",
    "plt.grid(True, alpha=0.3)\n",
    "\n",
    "plt.subplot(1, 2, 2)\n",
    "plt.hist(all_weights, bins=30, alpha=0.7, color='lightcoral', edgecolor='black')\n",
    "plt.xlabel('Edge Weight')\n",
    "plt.ylabel('Frequency')\n",
    "plt.title('Distribution (Log Scale)')\n",
    "plt.yscale('log')\n",
    "plt.grid(True, alpha=0.3)\n",
    "\n",
    "plt.tight_layout()\n",
    "plt.show()\n",
    "\n",
    "print(f\"\\nWeight statistics:\")\n",
    "print(f\"Mean: {np.mean(all_weights):.2f}\")\n",
    "print(f\"Median: {np.median(all_weights):.2f}\")\n",
    "print(f\"Std: {np.std(all_weights):.2f}\")"
   ]
  },
  {
   "cell_type": "markdown",
   "metadata": {},
   "source": [
    "## Exercise 5: Directed vs Undirected Comparison\n",
    "Create a toy directed graph and observe the behavior when converting to undirected."
   ]
  },
  {
   "cell_type": "code",
   "execution_count": 12,
   "metadata": {},
   "outputs": [
    {
     "name": "stdout",
     "output_type": "stream",
     "text": [
      "Original directed toy graph edges:\n",
      "  A -> B: weight = 1.0\n",
      "  B -> A: weight = 2.0\n",
      "  B -> C: weight = 3.0\n",
      "  C -> D: weight = 4.0\n",
      "  D -> A: weight = 5.0\n"
     ]
    }
   ],
   "source": [
    "# Create toy directed graph with bidirectional edges having different weights\n",
    "G_toy = nx.DiGraph()\n",
    "G_toy.add_weighted_edges_from([\n",
    "    ('A', 'B', 1.0), \n",
    "    ('B', 'A', 2.0), \n",
    "    ('B', 'C', 3.0),\n",
    "    ('C', 'D', 4.0),\n",
    "    ('D', 'A', 5.0)\n",
    "])\n",
    "\n",
    "print(\"Original directed toy graph edges:\")\n",
    "for edge in G_toy.edges(data=True):\n",
    "    print(f\"  {edge[0]} -> {edge[1]}: weight = {edge[2]['weight']}\")"
   ]
  },
  {
   "cell_type": "code",
   "execution_count": 13,
   "id": "ac1f4cef",
   "metadata": {},
   "outputs": [
    {
     "name": "stdout",
     "output_type": "stream",
     "text": [
      "\n",
      "Converted to undirected:\n",
      "  A -- B: weight = 2.0\n",
      "  A -- D: weight = 5.0\n",
      "  B -- C: weight = 3.0\n",
      "  C -- D: weight = 4.0\n",
      "\n",
      "Observation: The last edge weight is retained when converting to undirected\n",
      "For A-B edge pair: A->B (weight=1.0) and B->A (weight=2.0)\n",
      "Resulting undirected edge weight: 2.0\n"
     ]
    },
    {
     "data": {
      "image/png": "[encoded data removed]",
      "text/plain": [
       "<Figure size 1200x500 with 2 Axes>"
      ]
     },
     "metadata": {},
     "output_type": "display_data"
    }
   ],
   "source": [
    "# Convert to undirected\n",
    "G_toy_undirected = G_toy.to_undirected()\n",
    "\n",
    "print(\"\\nConverted to undirected:\")\n",
    "for edge in G_toy_undirected.edges(data=True):\n",
    "    print(f\"  {edge[0]} -- {edge[1]}: weight = {edge[2]['weight']}\")\n",
    "\n",
    "print(\"\\nObservation: The last edge weight is retained when converting to undirected\")\n",
    "print(\"For A-B edge pair: A->B (weight=1.0) and B->A (weight=2.0)\")\n",
    "print(f\"Resulting undirected edge weight: {G_toy_undirected['A']['B']['weight']}\")\n",
    "\n",
    "# Visualize the difference\n",
    "plt.figure(figsize=(12, 5))\n",
    "\n",
    "plt.subplot(1, 2, 1)\n",
    "pos = nx.spring_layout(G_toy, seed=42)\n",
    "nx.draw(G_toy, pos, with_labels=True, node_color='lightblue', \n",
    "        node_size=1000, font_size=16, font_weight='bold', arrows=True)\n",
    "edge_labels = nx.get_edge_attributes(G_toy, 'weight')\n",
    "nx.draw_networkx_edge_labels(G_toy, pos, edge_labels)\n",
    "plt.title('Directed Graph')\n",
    "\n",
    "plt.subplot(1, 2, 2)\n",
    "nx.draw(G_toy_undirected, pos, with_labels=True, node_color='lightcoral', \n",
    "        node_size=1000, font_size=16, font_weight='bold')\n",
    "edge_labels_undirected = nx.get_edge_attributes(G_toy_undirected, 'weight')\n",
    "nx.draw_networkx_edge_labels(G_toy_undirected, pos, edge_labels_undirected)\n",
    "plt.title('Undirected Graph')\n",
    "\n",
    "plt.tight_layout()\n",
    "plt.show()"
   ]
  },
  {
   "cell_type": "markdown",
   "metadata": {},
   "source": [
    "# Part 2: Connected components, Giant Component & Subgraphs"
   ]
  },
  {
   "cell_type": "code",
   "execution_count": null,
   "id": "f02910c3",
   "metadata": {},
   "outputs": [],
   "source": []
  },
  {
   "cell_type": "markdown",
   "id": "94a45b3e",
   "metadata": {},
   "source": [
    "## Exercise 6: \n",
    "For the Facebook graph, calculate the number of weakly connected components and strongly connected components. Why is there such a difference?"
   ]
  },
  {
   "cell_type": "code",
   "execution_count": 14,
   "id": "222a9124",
   "metadata": {},
   "outputs": [
    {
     "name": "stdout",
     "output_type": "stream",
     "text": [
      "\n",
      "Facebook graph connectivity:\n",
      "  Weakly connected components: 842\n",
      "  Strongly connected components: 14003\n",
      "\n",
      "Explanation: Difference exists because strong connectivity requires bidirectional paths,\n",
      "while weak connectivity only requires undirected paths.\n"
     ]
    }
   ],
   "source": [
    "# Analyze Facebook graph connectivity\n",
    "print(f\"\\nFacebook graph connectivity:\")\n",
    "print(f\"  Weakly connected components: {nx.number_weakly_connected_components(fg_directed)}\")\n",
    "print(f\"  Strongly connected components: {nx.number_strongly_connected_components(fg_directed)}\")\n",
    "print(\"\\nExplanation: Difference exists because strong connectivity requires bidirectional paths,\")\n",
    "print(\"while weak connectivity only requires undirected paths.\")"
   ]
  },
  {
   "cell_type": "markdown",
   "metadata": {},
   "source": [
    "## Exercise 7: Connected Components Exploration\n",
    "Find all weakly connected components in the Facebook graph and list the sizes of the 10 largest components."
   ]
  },
  {
   "cell_type": "code",
   "execution_count": 15,
   "metadata": {},
   "outputs": [
    {
     "name": "stdout",
     "output_type": "stream",
     "text": [
      "Total number of weakly connected components: 842\n",
      "Sizes of 10 largest components: [43953, 6, 5, 5, 5, 5, 5, 5, 5, 4]\n"
     ]
    }
   ],
   "source": [
    "# Find weakly connected components\n",
    "fb_weak_components = list(nx.weakly_connected_components(fg_directed))\n",
    "component_sizes = sorted([len(comp) for comp in fb_weak_components], reverse=True)\n",
    "\n",
    "print(f\"Total number of weakly connected components: {len(fb_weak_components)}\")\n",
    "print(f\"Sizes of 10 largest components: {component_sizes[:10]}\")\n"
   ]
  },
  {
   "cell_type": "markdown",
   "id": "866e599e",
   "metadata": {},
   "source": [
    "Calculate what percentage of nodes belongs to the Giant Component of the Facebook graph."
   ]
  },
  {
   "cell_type": "code",
   "execution_count": 16,
   "id": "7b4f1818",
   "metadata": {},
   "outputs": [
    {
     "name": "stdout",
     "output_type": "stream",
     "text": [
      "\n",
      "Giant Component Analysis:\n",
      "  Size: 43953 nodes\n",
      "  Total nodes in graph: 45813\n",
      "  Percentage of total nodes: 95.94%\n"
     ]
    }
   ],
   "source": [
    "# Calculate Giant Component percentage\n",
    "giant_component_size = max(component_sizes)\n",
    "total_nodes = fg_directed.number_of_nodes()\n",
    "gc_percentage = (giant_component_size / total_nodes) * 100\n",
    "\n",
    "print(f\"\\nGiant Component Analysis:\")\n",
    "print(f\"  Size: {giant_component_size} nodes\")\n",
    "print(f\"  Total nodes in graph: {total_nodes}\")\n",
    "print(f\"  Percentage of total nodes: {gc_percentage:.2f}%\")\n",
    "\n"
   ]
  },
  {
   "cell_type": "markdown",
   "id": "dc21067d",
   "metadata": {},
   "source": [
    "## Exercise 8: Subgraph analysis\n",
    "Create three different subgraphs of the Facebook Giant Component:\n",
    "\n",
    "- Nodes with degree > 150\n",
    "- Nodes with degree between 51-150\n",
    "- Nodes with degree < 50\n",
    "\n",
    "\n",
    "Compare the number of connected components in each subgraph and explain the pattern."
   ]
  },
  {
   "cell_type": "code",
   "execution_count": null,
   "id": "c0917f16",
   "metadata": {},
   "outputs": [
    {
     "name": "stdout",
     "output_type": "stream",
     "text": [
      "=== Subgraph Connected Components Comparison ===\n",
      "Nodes with degree > 150: 43 nodes, 7 components\n",
      "Nodes with degree 51-150: 1607 nodes, 12 components\n",
      "Nodes with degree < 50: 42230 nodes, 1173 components\n"
     ]
    }
   ],
   "source": [
    "giant_comp = max(nx.weakly_connected_components(fg_directed), key=len)\n",
    "fb_gc = fg_directed.subgraph(giant_comp)\n",
    "\n",
    "# Subgraph 1: Nodes with degree > 150\n",
    "nodes_gt_150 = [n for n in fb_gc.nodes() if fb_gc.degree(n) > 150]\n",
    "subgraph_gt_150 = fb_gc.subgraph(nodes_gt_150)\n",
    "components_gt_150 = list(nx.weakly_connected_components(subgraph_gt_150))\n",
    "num_components_gt_150 = len(components_gt_150)\n",
    "\n",
    "# Subgraph 2: Nodes with degree between 50 and 150\n",
    "nodes_50_150 = [n for n in fb_gc.nodes() if 50 < fb_gc.degree(n) <= 150]\n",
    "subgraph_50_150 = fb_gc.subgraph(nodes_50_150)\n",
    "components_50_150 = list(nx.weakly_connected_components(subgraph_50_150))\n",
    "num_components_50_150 = len(components_50_150)\n",
    "\n",
    "# Subgraph 3: Nodes with degree < 50\n",
    "nodes_lt_50 = [n for n in fb_gc.nodes() if fb_gc.degree(n) < 50]\n",
    "subgraph_lt_50 = fb_gc.subgraph(nodes_lt_50)\n",
    "components_lt_50 = list(nx.weakly_connected_components(subgraph_lt_50))\n",
    "num_components_lt_50 = len(components_lt_50)\n",
    "\n",
    "print(\"=== Subgraph Connected Components Comparison ===\")\n",
    "print(f\"Nodes with degree > 150: {len(nodes_gt_150)} nodes, {num_components_gt_150} components\")\n",
    "print(f\"Nodes with degree 51-150: {len(nodes_50_150)} nodes, {num_components_50_150} components\")\n",
    "print(f\"Nodes with degree < 50: {len(nodes_lt_50)} nodes, {num_components_lt_50} components\")\n"
   ]
  },
  {
   "cell_type": "markdown",
   "id": "230a6fb8",
   "metadata": {},
   "source": [
    "Pattern Explanation:\n",
    "- High-degree nodes (>150) are few and do not manage to stay connected.\n",
    "- Medium-degree nodes (51-150) are more numerous and may form larger, but still fragmented, components.\n",
    "- Low-degree nodes (<50) are the most numerous and highly fragmented, resulting in many small isolated components.\n",
    "\n",
    "Removing low-degree nodes breaks bridges, while high-degree nodes alone are not enough to keep the network connected."
   ]
  },
  {
   "cell_type": "markdown",
   "id": "83bd8e39",
   "metadata": {},
   "source": [
    "# Exercise 9: Random Failures vs. Targeted Attacks\n",
    "Load the karate club graph via <code>nx.karate_club_graph()</code>. It consists of one component with 34 nodes and 78 edges.\n",
    "Pick 5 random nodes and remove them. Compute the number of connected components."
   ]
  },
  {
   "cell_type": "code",
   "execution_count": 18,
   "id": "79f6cde3",
   "metadata": {},
   "outputs": [
    {
     "name": "stdout",
     "output_type": "stream",
     "text": [
      "\n",
      "Karate Club Graph - Nodes: 34, Edges: 78\n",
      "Removed nodes: [7, 1, 17, 15, 14]\n",
      "Number of connected components after removal: 1\n"
     ]
    }
   ],
   "source": [
    "karate = nx.karate_club_graph()\n",
    "N = karate.number_of_nodes()\n",
    "print(f\"\\nKarate Club Graph - Nodes: {N}, Edges: {karate.number_of_edges()}\")\n",
    "\n",
    "# Remove 5 random nodes and compute number of connected components\n",
    "nodes_to_remove = random.sample(list(karate.nodes()), 5)\n",
    "karate_removed = karate.copy()\n",
    "karate_removed.remove_nodes_from(nodes_to_remove)\n",
    "\n",
    "num_components = nx.number_connected_components(karate_removed)\n",
    "print(f\"Removed nodes: {nodes_to_remove}\")\n",
    "print(f\"Number of connected components after removal: {num_components}\")"
   ]
  },
  {
   "cell_type": "markdown",
   "id": "eafafd6c",
   "metadata": {},
   "source": [
    "Reload the complete karate club graph. Now, remove the 5 highest degree nodes. What happens?"
   ]
  },
  {
   "cell_type": "code",
   "execution_count": 19,
   "id": "705294df",
   "metadata": {},
   "outputs": [
    {
     "name": "stdout",
     "output_type": "stream",
     "text": [
      "\n",
      "Targeted Removal:\n",
      "Removed nodes: [33, 0, 32, 2, 1]\n",
      "Number of connected components after removal: 14\n"
     ]
    }
   ],
   "source": [
    "karate_targeted = nx.karate_club_graph()\n",
    "# Sort nodes by degree (descending)\n",
    "high_degree_nodes = sorted(karate_targeted.degree(), key=lambda x: x[1], reverse=True)\n",
    "top5_nodes = [n for n, d in high_degree_nodes[:5]]\n",
    "karate_targeted.remove_nodes_from(top5_nodes)\n",
    "num_components_targeted = nx.number_connected_components(karate_targeted)\n",
    "\n",
    "print(f\"\\nTargeted Removal:\")\n",
    "print(f\"Removed nodes: {top5_nodes}\")\n",
    "print(f\"Number of connected components after removal: {num_components_targeted}\")\n"
   ]
  },
  {
   "cell_type": "code",
   "execution_count": null,
   "id": "6cbb5b4a",
   "metadata": {},
   "outputs": [],
   "source": []
  }
 ],
 "metadata": {
  "kernelspec": {
   "display_name": "Python 3",
   "language": "python",
   "name": "python3"
  },
  "language_info": {
   "codemirror_mode": {
    "name": "ipython",
    "version": 3
   },
   "file_extension": ".py",
   "mimetype": "text/x-python",
   "name": "python",
   "nbconvert_exporter": "python",
   "pygments_lexer": "ipython3",
   "version": "3.9.20"
  }
 },
 "nbformat": 4,
 "nbformat_minor": 5
}
