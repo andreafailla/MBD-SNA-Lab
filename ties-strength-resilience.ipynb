{
  "cells": [
    {
      "cell_type": "markdown",
      "metadata": {
        "id": "WJVcJoSduD8i"
      },
      "source": [
        "<span>\n",
        "<b>Authors:</b> <a href=\"http://about.giuliorossetti.net\">Giulio Rossetti</a>, <a href=\"https://andreafailla.github.io/\">Andrea Failla</a><br/>\n",
        "<b>Python version:</b>  >=3.7<br/>\n",
        "<b>Networkx version:</b>  >=2.3<br/>\n",
        "<b>Last update:</b> 03/07/2025\n",
        "</span>\n",
        "\n",
        "<a id='top'></a>\n",
        "# Ties Strength & Resilience*\n",
        "\n",
        "In this notebook are introduced some of the main analysis discussed in lecture 7.\n",
        "\n",
        "**Note:** this notebook is purposely not 100% comprehensive, it only discusses the basic things you need to get started."
      ]
    },
    {
      "cell_type": "code",
      "execution_count": 31,
      "metadata": {
        "id": "i3x1HFuTuD8j"
      },
      "outputs": [],
      "source": [
        "import networkx as nx\n",
        "import pandas as pd\n",
        "import matplotlib.pyplot as plt\n",
        "import numpy as np\n",
        "\n",
        "%matplotlib inline"
      ]
    },
    {
      "cell_type": "markdown",
      "metadata": {
        "id": "DT-2n2vsuD8j"
      },
      "source": [
        "Reading Game of Thrones Season 6 edge data and defining the graph g (useful for further operations)"
      ]
    },
    {
      "cell_type": "code",
      "execution_count": null,
      "metadata": {
        "colab": {
          "base_uri": "https://localhost:8080/"
        },
        "id": "efonmdkYvc_v",
        "outputId": "9626b826-542d-41f0-b1fb-32fcb000581d"
      },
      "outputs": [],
      "source": [
        "!git clone https://github.com/sna-unipi/SNA-lectures-notebooks.git\n",
        "!mkdir asioaf\n",
        "!cp -r SNA-lectures-notebooks/data/asioaf/* asioaf/\n",
        "!rm -rf SNA-lectures-notebooks"
      ]
    },
    {
      "cell_type": "code",
      "execution_count": 32,
      "metadata": {
        "id": "o8yRBtOmuD8j"
      },
      "outputs": [],
      "source": [
        "def read_net_w(filename):\n",
        "    g = nx.Graph()\n",
        "    with open(filename) as f:\n",
        "        f.readline()\n",
        "        for l in f:\n",
        "            l = l.split(\",\")\n",
        "            g.add_edge(l[0], l[1], weight=int(l[2]))\n",
        "    return g\n",
        "\n",
        "# Game of Thrones data\n",
        "season = 6\n",
        "g = read_net_w(f'asioaf/got-s{season}-edges.csv')"
      ]
    },
    {
      "cell_type": "markdown",
      "metadata": {
        "id": "rBnTfZsYuD8j"
      },
      "source": [
        "## Bridges and Local Bridges"
      ]
    },
    {
      "cell_type": "markdown",
      "metadata": {
        "id": "oPe7xzZpuD8j"
      },
      "source": [
        "Checking if graph has bridges"
      ]
    },
    {
      "cell_type": "code",
      "execution_count": 33,
      "metadata": {
        "colab": {
          "base_uri": "https://localhost:8080/"
        },
        "id": "tHdTplvsuD8j",
        "outputId": "5ff8eb33-9e35-4397-ad24-65b0131723c1"
      },
      "outputs": [
        {
          "data": {
            "text/plain": [
              "True"
            ]
          },
          "execution_count": 33,
          "metadata": {},
          "output_type": "execute_result"
        }
      ],
      "source": [
        "nx.has_bridges(g)"
      ]
    },
    {
      "cell_type": "markdown",
      "metadata": {
        "id": "VK_KRBYiuD8j"
      },
      "source": [
        "Generating all bridges in the graph"
      ]
    },
    {
      "cell_type": "code",
      "execution_count": 34,
      "metadata": {
        "colab": {
          "base_uri": "https://localhost:8080/"
        },
        "id": "lJCfaA0guD8j",
        "outputId": "6476d082-4f78-47fb-d60a-4009bc6e2b8a"
      },
      "outputs": [
        {
          "data": {
            "text/plain": [
              "[('JON', 'SAM'),\n",
              " ('JON', 'JEOR'),\n",
              " ('MISSANDEI', 'KRAZNYS_MO_NAKLOZ'),\n",
              " ('TYRION', 'AERYS'),\n",
              " ('DAVOS', 'SHIREEN'),\n",
              " ('SAM', 'MAESTER_AEMON'),\n",
              " ('CERSEI', 'MOUNTAIN'),\n",
              " ('TORMUND', 'MANCE'),\n",
              " ('HOUND', 'GATINS'),\n",
              " ('BRYNDEN', 'MINISA'),\n",
              " ('EDMURE', 'HOSTER'),\n",
              " ('QYBURN', 'ARTHUR_CHILD'),\n",
              " ('NED', 'RICKARD_STARK')]"
            ]
          },
          "execution_count": 34,
          "metadata": {},
          "output_type": "execute_result"
        }
      ],
      "source": [
        "list(nx.bridges(g))"
      ]
    },
    {
      "cell_type": "markdown",
      "metadata": {
        "id": "5wqDikfCuD8j"
      },
      "source": [
        "Generating all local bridges in the graph and computing the span (i.e., the shortest path length between the endpoints if the local bridge is removed)"
      ]
    },
    {
      "cell_type": "code",
      "execution_count": 35,
      "metadata": {
        "colab": {
          "base_uri": "https://localhost:8080/"
        },
        "id": "Y9IhtCoJuD8k",
        "outputId": "38861933-02c1-4640-9a58-5825b5c5a1f6"
      },
      "outputs": [
        {
          "data": {
            "text/plain": [
              "[('JON', 'SAM', inf),\n",
              " ('JON', 'JEOR', inf),\n",
              " ('MISSANDEI', 'KRAZNYS_MO_NAKLOZ', inf),\n",
              " ('TYRION', 'AERYS', inf),\n",
              " ('VARYS', 'STANNIS', 3),\n",
              " ('ARYA', 'WALDER', 3),\n",
              " ('DAVOS', 'SHIREEN', inf),\n",
              " ('SAM', 'MAESTER_AEMON', inf),\n",
              " ('CERSEI', 'MOUNTAIN', inf),\n",
              " ('TORMUND', 'MANCE', inf),\n",
              " ('HOUND', 'GATINS', inf),\n",
              " ('BRYNDEN', 'MINISA', inf),\n",
              " ('EDMURE', 'HOSTER', inf),\n",
              " ('QYBURN', 'ARTHUR_CHILD', inf),\n",
              " ('NED', 'RICKARD_STARK', inf)]"
            ]
          },
          "execution_count": 35,
          "metadata": {},
          "output_type": "execute_result"
        }
      ],
      "source": [
        "list(nx.local_bridges(g, with_span=True))"
      ]
    },
    {
      "cell_type": "code",
      "execution_count": 36,
      "metadata": {
        "id": "ygLu_Wuw0f8G"
      },
      "outputs": [],
      "source": [
        "# add to edges\n",
        "for u, v, span in nx.local_bridges(g, with_span=True):\n",
        "    g[u][v]['span'] = span"
      ]
    },
    {
      "cell_type": "markdown",
      "metadata": {
        "id": "hupM1KpguD8k"
      },
      "source": [
        "## Tie Strength"
      ]
    },
    {
      "cell_type": "markdown",
      "metadata": {
        "id": "-hPdVX-2uD8k"
      },
      "source": [
        "Measuring Tie Strength for each pair of nodes in the graph through Neighborhood Overlap"
      ]
    },
    {
      "cell_type": "code",
      "execution_count": 37,
      "metadata": {
        "id": "aQuXOP_xuD8k"
      },
      "outputs": [],
      "source": [
        "def neighborhood_overlap(G, u, v):\n",
        "    \"\"\"\n",
        "    Compute overlap O_uv = |N(u) ∩ N(v)| / |N(u) ∪ N(v)|\n",
        "    (excluding u,v themselves).\n",
        "    \"\"\"\n",
        "    nbrs_u = set(G[u]) - {v}\n",
        "    nbrs_v = set(G[v]) - {u}\n",
        "    inter = nbrs_u & nbrs_v\n",
        "    union = nbrs_u | nbrs_v\n",
        "    return len(inter) / len(union) if union else 0.0\n"
      ]
    },
    {
      "cell_type": "code",
      "execution_count": 38,
      "metadata": {
        "id": "fssuWyuhuD8k"
      },
      "outputs": [],
      "source": [
        "for u, v in g.edges():\n",
        "    g[u][v]['overlap'] = neighborhood_overlap(g, u, v)"
      ]
    },
    {
      "cell_type": "markdown",
      "metadata": {
        "id": "e4M2XdaVuD8k"
      },
      "source": [
        "Plotting the KDE (Kernel Density Estimation) of Neighborhood Overlap"
      ]
    },
    {
      "cell_type": "code",
      "execution_count": 41,
      "metadata": {
        "colab": {
          "base_uri": "https://localhost:8080/",
          "height": 449
        },
        "id": "XNEvKaMjuD8k",
        "outputId": "c8c1b8fb-dd56-4393-e28c-a816463899a4"
      },
      "outputs": [
        {
          "data": {
            "image/png": "[encoded data removed]",
            "text/plain": [
              "<Figure size 640x480 with 1 Axes>"
            ]
          },
          "metadata": {},
          "output_type": "display_data"
        }
      ],
      "source": [
        "weights = [e[-1]['overlap'] for e in g.edges(data=True)]\n",
        "pd.DataFrame(weights)[0].plot.kde()\n",
        "plt.xlabel(\"Neighborhood Overlap\")\n",
        "plt.ylabel(\"Density\")\n",
        "plt.xlim(0,1)\n",
        "plt.show()"
      ]
    },
    {
      "cell_type": "markdown",
      "metadata": {
        "id": "mdJV3fg8uD8k"
      },
      "source": [
        "Plotting the KDE (Kernel Density Estimation) of Interactions Weights"
      ]
    },
    {
      "cell_type": "code",
      "execution_count": 42,
      "metadata": {
        "colab": {
          "base_uri": "https://localhost:8080/",
          "height": 449
        },
        "id": "okBXK-txuD8k",
        "outputId": "2c83a800-cee3-4e86-c2c7-6567ae9d6e31"
      },
      "outputs": [
        {
          "data": {
            "image/png": "[encoded data removed]",
            "text/plain": [
              "<Figure size 640x480 with 1 Axes>"
            ]
          },
          "metadata": {},
          "output_type": "display_data"
        }
      ],
      "source": [
        "weights_got = [d['weight'] for u,v,d in g.edges(data=True)]\n",
        "pd.DataFrame(weights_got)[0].plot.kde()\n",
        "plt.xlabel(\"Interaction Weights\")\n",
        "plt.ylabel(\"Density\")\n",
        "plt.xlim(0,max(weights_got))\n",
        "plt.show()"
      ]
    },
    {
      "cell_type": "markdown",
      "metadata": {
        "id": "0ocDjcGAuD8k"
      },
      "source": [
        "## Network Resilience\n",
        "In the following we:\n",
        "- generate Random and Scale-free Network\n",
        "- compute Reslience for both Networks (through molloy_reed and breakdown_threshold)\n",
        "- plot Game of Thrones graph Resilience under Random Failure and Targeted Attacks"
      ]
    },
    {
      "cell_type": "markdown",
      "metadata": {
        "id": "c7xK3hUWuD8k"
      },
      "source": [
        "Generating Networks"
      ]
    },
    {
      "cell_type": "code",
      "execution_count": 43,
      "metadata": {
        "id": "_eNaEOW6uD8k"
      },
      "outputs": [],
      "source": [
        "# Random\n",
        "er = nx.erdos_renyi_graph(1000, 0.001)\n",
        "# Scale-free\n",
        "ba = nx.barabasi_albert_graph(1000, 2)"
      ]
    },
    {
      "cell_type": "markdown",
      "metadata": {
        "id": "_YwpQU7luD8k"
      },
      "source": [
        "Computing node degree for both ER and BA Networks"
      ]
    },
    {
      "cell_type": "code",
      "execution_count": 44,
      "metadata": {
        "id": "Ih8aoCoDuD8k"
      },
      "outputs": [],
      "source": [
        "er_degs = list(dict(er.degree()).values())\n",
        "ba_degs = list(dict(ba.degree()).values())"
      ]
    },
    {
      "cell_type": "markdown",
      "metadata": {
        "id": "ZOvZBLVYuD8k"
      },
      "source": [
        "Defining Molloy-Reed threshold"
      ]
    },
    {
      "cell_type": "code",
      "execution_count": 45,
      "metadata": {
        "id": "zXzOUk1uuD8k"
      },
      "outputs": [],
      "source": [
        "def molloy_reed(degrees):\n",
        "    return (np.mean(degrees)*(np.mean(degrees)+1))/np.mean(degrees)\n",
        "\n",
        "def breakdown_threshold(degrees):\n",
        "    K = molloy_reed(degrees)\n",
        "    return 1 - (1/(K-1))"
      ]
    },
    {
      "cell_type": "markdown",
      "metadata": {
        "id": "PXuB2dX1uD8k"
      },
      "source": [
        "Random network"
      ]
    },
    {
      "cell_type": "code",
      "execution_count": 46,
      "metadata": {
        "colab": {
          "base_uri": "https://localhost:8080/"
        },
        "id": "KxDMCag6uD8k",
        "outputId": "a49ed6ea-3b0b-4651-f2fa-53811b9521af"
      },
      "outputs": [
        {
          "data": {
            "text/plain": [
              "1.95"
            ]
          },
          "execution_count": 46,
          "metadata": {},
          "output_type": "execute_result"
        }
      ],
      "source": [
        "molloy_reed(er_degs)"
      ]
    },
    {
      "cell_type": "code",
      "execution_count": 47,
      "metadata": {
        "colab": {
          "base_uri": "https://localhost:8080/"
        },
        "id": "JITZT3bpuD8k",
        "outputId": "d6f5fe54-e1af-4760-a11e-3fbaba159b5e"
      },
      "outputs": [
        {
          "data": {
            "text/plain": [
              "-0.05263157894736836"
            ]
          },
          "execution_count": 47,
          "metadata": {},
          "output_type": "execute_result"
        }
      ],
      "source": [
        "breakdown_threshold(er_degs)"
      ]
    },
    {
      "cell_type": "markdown",
      "metadata": {
        "id": "NEypGr3FuD8k"
      },
      "source": [
        "Scale-free network"
      ]
    },
    {
      "cell_type": "code",
      "execution_count": 48,
      "metadata": {
        "colab": {
          "base_uri": "https://localhost:8080/"
        },
        "id": "mP_zLY8AuD8k",
        "outputId": "5ad45e35-90ac-4630-bbf9-452de349ee46"
      },
      "outputs": [
        {
          "data": {
            "text/plain": [
              "4.992"
            ]
          },
          "execution_count": 48,
          "metadata": {},
          "output_type": "execute_result"
        }
      ],
      "source": [
        "molloy_reed(ba_degs)"
      ]
    },
    {
      "cell_type": "code",
      "execution_count": 49,
      "metadata": {
        "colab": {
          "base_uri": "https://localhost:8080/"
        },
        "id": "W-HUks83uD8k",
        "outputId": "1fbb11cd-e980-4e67-aaad-df321651a9fe"
      },
      "outputs": [
        {
          "data": {
            "text/plain": [
              "0.7494989979959921"
            ]
          },
          "execution_count": 49,
          "metadata": {},
          "output_type": "execute_result"
        }
      ],
      "source": [
        "breakdown_threshold(ba_degs)"
      ]
    },
    {
      "cell_type": "markdown",
      "metadata": {
        "id": "XKVqpfdXuD8l"
      },
      "source": [
        "### Random Failures"
      ]
    },
    {
      "cell_type": "code",
      "execution_count": null,
      "metadata": {
        "id": "kb26iAcvuD8l"
      },
      "outputs": [],
      "source": [
        "import numpy as np\n",
        "import networkx as nx\n",
        "import matplotlib.pyplot as plt\n",
        "\n",
        "def random_node(g): # select a random node from graph\n",
        "    return [np.random.choice(g.nodes())]\n",
        "\n",
        "def dismantle(g, function, **args): # incrementally removes node from a graph and computes size of connected components\n",
        "    total_nodes = g.number_of_nodes()\n",
        "    removed_nodes = []\n",
        "    components = []\n",
        "    while len(g.nodes()) > 1:\n",
        "        n = function(g, **args)[0]\n",
        "        g.remove_node(n)\n",
        "        removed_nodes.append((len(removed_nodes)+1)/total_nodes)\n",
        "        comps = list(nx.connected_components(g))\n",
        "        g_size = 0\n",
        "        if len(comps)>0:\n",
        "            g_size  = max([len(c)for c in comps])/total_nodes\n",
        "        components.append(g_size)\n",
        "    return removed_nodes, components\n",
        "\n",
        "def get_sorted_nodes(g, score, reverse=True): # sort nodes\n",
        "    nodes = score(g)\n",
        "    if isinstance(nodes, dict):\n",
        "        nodes = [(k, v) for k, v in nodes.items()]\n",
        "    srt = sorted(nodes, key = lambda k: k[1], reverse = reverse)\n",
        "    return [x[0] for x in srt]\n",
        "\n",
        "def plot_dismantle(x, y, ax=None, **kwargs):\n",
        "    \"\"\"\n",
        "    Plot dismantling results on a given axis or create new plot.\n",
        "\n",
        "    Parameters:\n",
        "    -----------\n",
        "    x : list or array\n",
        "        X-axis data (removed nodes)\n",
        "    y : list or array\n",
        "        Y-axis data (giant component size)\n",
        "    ax : matplotlib.axes.Axes, optional\n",
        "        Axis to plot on. If None, creates new figure\n",
        "    **kwargs : dict\n",
        "        Additional keyword arguments passed to plot function\n",
        "    \"\"\"\n",
        "    if ax is None:\n",
        "        fig, ax = plt.subplots()\n",
        "        show_plot = True\n",
        "    else:\n",
        "        show_plot = False\n",
        "\n",
        "    ax.plot(x, y, **kwargs)\n",
        "    ax.set_xlabel(\"Removed Nodes\")\n",
        "    ax.set_ylabel(\"Giant Component size\")\n",
        "\n",
        "    if show_plot:\n",
        "        plt.show()\n"
      ]
    },
    {
      "cell_type": "markdown",
      "metadata": {
        "id": "lTlS_UdauD8l"
      },
      "source": [
        "Random Failure:\n",
        "- Giant component size has a consistent decrease when a big fraction of nodes is removed"
      ]
    },
    {
      "cell_type": "code",
      "execution_count": 50,
      "metadata": {},
      "outputs": [
        {
          "name": "stdout",
          "output_type": "stream",
          "text": [
            "Graph with 142 nodes and 541 edges\n"
          ]
        }
      ],
      "source": [
        "print(g)"
      ]
    },
    {
      "cell_type": "code",
      "execution_count": 51,
      "metadata": {
        "colab": {
          "base_uri": "https://localhost:8080/",
          "height": 449
        },
        "id": "5y278-HQuD8l",
        "outputId": "f40824bc-a40e-4b39-d171-a8b2ff66aac2"
      },
      "outputs": [
        {
          "data": {
            "image/png": "[encoded data removed]",
            "text/plain": [
              "<Figure size 640x480 with 1 Axes>"
            ]
          },
          "metadata": {},
          "output_type": "display_data"
        }
      ],
      "source": [
        "h = g.copy()\n",
        "rn, comps = dismantle(h, random_node)\n",
        "plot_dismantle(rn, comps)"
      ]
    },
    {
      "cell_type": "markdown",
      "metadata": {
        "id": "xstPyyWRuD8l"
      },
      "source": [
        "### Targeted Attacks"
      ]
    },
    {
      "cell_type": "markdown",
      "metadata": {
        "id": "Ck-OkrC3uD8l"
      },
      "source": [
        "Targeted Node attack (hubs are removed first)\n",
        "- Giant component size has a consistent decrease when a small fraction of nodes is removed"
      ]
    },
    {
      "cell_type": "code",
      "execution_count": 52,
      "metadata": {
        "colab": {
          "base_uri": "https://localhost:8080/",
          "height": 449
        },
        "id": "JPHptVw6uD8l",
        "outputId": "d59bed3c-37ac-49a1-d84e-a19f82dc7f28"
      },
      "outputs": [
        {
          "data": {
            "image/png": "[encoded data removed]",
            "text/plain": [
              "<Figure size 640x480 with 1 Axes>"
            ]
          },
          "metadata": {},
          "output_type": "display_data"
        }
      ],
      "source": [
        "h = g.copy()\n",
        "rn, comps = dismantle(h, get_sorted_nodes, score=nx.degree)\n",
        "plot_dismantle(rn, comps)"
      ]
    },
    {
      "cell_type": "markdown",
      "metadata": {
        "id": "U4brW8ubuD8o"
      },
      "source": [
        "Targeted Edge Attack (based on Edge Betweenness Centrality)\n",
        "- Giant component size has a consistent decrease when a small fraction of nodes is removed"
      ]
    },
    {
      "cell_type": "code",
      "execution_count": 53,
      "metadata": {
        "colab": {
          "base_uri": "https://localhost:8080/",
          "height": 449
        },
        "id": "xUN1mwTvuD8o",
        "outputId": "a13b78c4-6344-4a47-c3a9-1276fcc0f34c"
      },
      "outputs": [
        {
          "data": {
            "image/png": "[encoded data removed]",
            "text/plain": [
              "<Figure size 640x480 with 1 Axes>"
            ]
          },
          "metadata": {},
          "output_type": "display_data"
        }
      ],
      "source": [
        "h = g.copy()\n",
        "rn, comps = dismantle(h, get_sorted_nodes, score=nx.betweenness_centrality)\n",
        "plot_dismantle(rn, comps)"
      ]
    },
    {
      "cell_type": "markdown",
      "metadata": {
        "id": "MVeE2o_luD8o"
      },
      "source": [
        "Targeted Edge Attack (based on Edge Harmonic Centrality)\n",
        "- Giant component size has a consistent decrease when a small fraction of nodes is removed"
      ]
    },
    {
      "cell_type": "code",
      "execution_count": 54,
      "metadata": {
        "colab": {
          "base_uri": "https://localhost:8080/",
          "height": 449
        },
        "id": "MROITd5VuD8o",
        "outputId": "773d3aa7-563b-4a40-8107-36d735986a19"
      },
      "outputs": [
        {
          "data": {
            "image/png": "[encoded data removed]",
            "text/plain": [
              "<Figure size 640x480 with 1 Axes>"
            ]
          },
          "metadata": {},
          "output_type": "display_data"
        }
      ],
      "source": [
        "h = g.copy()\n",
        "rn, comps = dismantle(h, get_sorted_nodes, score=nx.harmonic_centrality)\n",
        "plot_dismantle(rn, comps)"
      ]
    },
    {
      "cell_type": "markdown",
      "metadata": {
        "id": "Z3ew-i8S7YoJ"
      },
      "source": [
        "## Exercises"
      ]
    },
    {
      "cell_type": "markdown",
      "metadata": {
        "id": "7Cgxxm_Y7cCN"
      },
      "source": [
        "### Tie strength over time\n",
        "Load the Game of Thrones networks for different seasons (seasons 1-6)\n",
        "- For each season, compute the neighborhood overlap for all edges\n",
        "- Create visualizations comparing the distribution of tie strengths across seasons"
      ]
    },
    {
      "cell_type": "code",
      "execution_count": null,
      "metadata": {
        "id": "DK6YDh-Syk8b"
      },
      "outputs": [],
      "source": []
    },
    {
      "cell_type": "code",
      "execution_count": null,
      "metadata": {
        "id": "B7rbWncozUn1"
      },
      "outputs": [],
      "source": []
    },
    {
      "cell_type": "code",
      "execution_count": null,
      "metadata": {
        "colab": {
          "base_uri": "https://localhost:8080/",
          "height": 997
        },
        "id": "PRyo5e2ouD8o",
        "outputId": "1918abc7-b41f-46ae-ecab-393aca3869d3"
      },
      "outputs": [],
      "source": []
    },
    {
      "cell_type": "markdown",
      "metadata": {
        "id": "kOYNQmQR0JvG"
      },
      "source": [
        "## Failures and attacks on different topologies\n",
        "* Generate three types of networks with the same number of nodes (500):\n",
        "   - Erdős-Rényi random graph\n",
        "   - Barabási-Albert scale-free graph\n",
        "   - Watts-Strogatz small-world graph\n"
      ]
    },
    {
      "cell_type": "code",
      "execution_count": null,
      "metadata": {
        "id": "KbksodQC0Kkn"
      },
      "outputs": [],
      "source": []
    },
    {
      "cell_type": "code",
      "execution_count": null,
      "metadata": {
        "colab": {
          "base_uri": "https://localhost:8080/"
        },
        "id": "8sDDq31E_JQU",
        "outputId": "465d57b7-1899-444a-ac4b-fac98fddcc9a"
      },
      "outputs": [],
      "source": []
    },
    {
      "cell_type": "markdown",
      "metadata": {
        "id": "wxD8Su3b-pjS"
      },
      "source": [
        "* For each network:\n",
        "   - Calculate the Molloy-Reed threshold\n",
        "   - Compute the breakdown threshold\n",
        "   - Simulate random failures (random node removal) and targeted attacks (high-degree first)\n",
        "   - Plot the giant component size vs. fraction of removed nodes"
      ]
    },
    {
      "cell_type": "code",
      "execution_count": null,
      "metadata": {
        "colab": {
          "base_uri": "https://localhost:8080/"
        },
        "id": "zvf_XHSL0Kin",
        "outputId": "dd3fb79f-019a-4745-82d4-c078aa6d3ad5"
      },
      "outputs": [],
      "source": []
    },
    {
      "cell_type": "code",
      "execution_count": null,
      "metadata": {
        "id": "hr7RfL520Kgb"
      },
      "outputs": [],
      "source": []
    },
    {
      "cell_type": "code",
      "execution_count": null,
      "metadata": {
        "colab": {
          "base_uri": "https://localhost:8080/",
          "height": 314
        },
        "id": "SZqeGe5b0KeA",
        "outputId": "8e3f8743-d41c-493e-bde5-130c5ce3e09f"
      },
      "outputs": [],
      "source": []
    },
    {
      "cell_type": "code",
      "execution_count": null,
      "metadata": {
        "colab": {
          "base_uri": "https://localhost:8080/",
          "height": 314
        },
        "id": "1QNk_wGdzf1v",
        "outputId": "367c958d-433a-47d8-b153-e34d161d3c41"
      },
      "outputs": [],
      "source": []
    },
    {
      "cell_type": "markdown",
      "metadata": {
        "id": "hpmgjr_l-VKd"
      },
      "source": []
    }
  ],
  "metadata": {
    "colab": {
      "provenance": []
    },
    "kernelspec": {
      "display_name": "venv",
      "language": "python",
      "name": "python3"
    },
    "language_info": {
      "codemirror_mode": {
        "name": "ipython",
        "version": 3
      },
      "file_extension": ".py",
      "mimetype": "text/x-python",
      "name": "python",
      "nbconvert_exporter": "python",
      "pygments_lexer": "ipython3",
      "version": "3.9.20"
    }
  },
  "nbformat": 4,
  "nbformat_minor": 0
}
