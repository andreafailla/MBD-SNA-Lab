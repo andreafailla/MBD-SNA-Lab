{
 "cells": [
  {
   "attachments": {},
   "cell_type": "markdown",
   "metadata": {},
   "source": [
    "# Complex Network Analysis - Parts 3 & 4\n",
    "## Master in BigData: SNA Lab - Exercises\n",
    "\n",
    "This notebook contains exercises on complex network analysis and graph modeling using NetworkX.\n",
    "\n",
    "**Prerequisites:**\n",
    "- `facebook.ncol` file should be available in the working directory\n",
    "- All required libraries should be installed"
   ]
  },
  {
   "cell_type": "code",
   "execution_count": null,
   "metadata": {},
   "outputs": [],
   "source": [
    "# Import required libraries\n",
    "import networkx as nx\n",
    "import numpy as np\n",
    "import matplotlib.pyplot as plt\n",
    "from collections import Counter\n",
    "import random\n",
    "import warnings\n",
    "warnings.filterwarnings('ignore')\n",
    "\n",
    "# Set matplotlib to display plots inline\n",
    "%matplotlib inline\n",
    "\n",
    "# Set random seed for reproducibility\n",
    "random.seed(42)\n",
    "np.random.seed(42)\n",
    "\n",
    "print(\"Libraries imported successfully!\")"
   ]
  },
  {
   "attachments": {},
   "cell_type": "markdown",
   "metadata": {},
   "source": [
    "# Part 3. Plotting graphs"
   ]
  },
  {
   "cell_type": "markdown",
   "metadata": {},
   "source": [
    "## Exercise 1: Basic Graph Visualization\n",
    "Load the Karate Club graph. Customize the visualization by:\n",
    "\n",
    "- Color nodes by club (use the 'club' node attribute which is already attached to the node)\n",
    "- Varying node sizes based on their degree\n",
    "- position the nodes with the spring layout algorithm"
   ]
  },
  {
   "cell_type": "code",
   "execution_count": null,
   "metadata": {},
   "outputs": [],
   "source": []
  },
  {
   "attachments": {},
   "cell_type": "markdown",
   "metadata": {},
   "source": [
    "# Part 4. Degree Analysis"
   ]
  },
  {
   "cell_type": "markdown",
   "metadata": {},
   "source": [
    "## **Exercise 2: Comparing Degree Distributions Across Networks**\n",
    "\n",
    "\n",
    "Compare the degree distributions of four different real-world networks:\n",
    "- **Facebook Network** (undirected)\n",
    "- **Zachary's Karate Club**: (nx.karate_club_graph)\n",
    "- **Florentine Families**: Historical marriage ties between powerful families in Renaissance Florence. (nx.florentine_families_graph)\n",
    "- **Les Misérables**: Co-occurrence network of characters in Victor Hugo's novel *Les Misérables*. (nx.les_miserables_graph)\n",
    "\n",
    "Steps:\n",
    "1. Extract the degree of each node in the network.\n",
    "2. Plot the degree distribution using histograms for each graph.\n",
    "3. Compare the distributions visually\n",
    "4. Report minimum and maximum degree for each graph."
   ]
  },
  {
   "cell_type": "code",
   "execution_count": null,
   "metadata": {},
   "outputs": [],
   "source": []
  },
  {
   "cell_type": "markdown",
   "metadata": {},
   "source": [
    "\n",
    "## Exercise 3: the Friendship Paradox \n",
    "\n",
    "Friendship Paradox: “on average, your friends have more friends than you do” -> :(\n",
    "\n",
    "Compare the average degree of all nodes to the average degree of their neighbors.\n",
    "\n",
    "### Steps:\n",
    "\n",
    "1. **Compute the average degree** of all nodes in the graph:\n",
    "\n",
    "2. **For each node**, compute the average degree of its neighbors:\n",
    "\n",
    "3. **Compute the global average of the neighbor degrees** across all nodes:\n"
   ]
  },
  {
   "cell_type": "code",
   "execution_count": null,
   "metadata": {},
   "outputs": [],
   "source": []
  },
  {
   "cell_type": "markdown",
   "metadata": {},
   "source": [
    "How many nodes satisfy the paradox condition?\n"
   ]
  },
  {
   "cell_type": "code",
   "execution_count": null,
   "metadata": {},
   "outputs": [],
   "source": []
  },
  {
   "cell_type": "markdown",
   "metadata": {},
   "source": [
    "## Exercise 4: Why does the paradox happen?\n",
    "\n",
    "On the Karate Club graph, use random.choice() to perform sampling as follows:\n",
    "1. **Uniform Sampling**:\n",
    "   - Randomly sample 20 nodes from the graph.\n",
    "   - Compute the average degree of the sampled nodes.\n",
    "\n",
    "2. **Friend Sampling**:\n",
    "   - Randomly select 20 edges.\n",
    "   - For each edge, pick a random endpoint (simulating choosing a \"friend\").\n",
    "   - Compute the average degree of these sampled nodes.\n",
    "Compare the average degrees from both sampling methods.\n"
   ]
  },
  {
   "cell_type": "code",
   "execution_count": null,
   "metadata": {},
   "outputs": [],
   "source": []
  },
  {
   "cell_type": "markdown",
   "metadata": {},
   "source": [
    "## Exercise 5: the Rich Club\n",
    "\n",
    "- Load the facebook graph as an undirected network.\n",
    "- Identify the top 10% of nodes by degree and build the induced subgraph.\n",
    "- Measure density of links among them.\n",
    "- Compare to the density of links in the rest of the network.\n",
    "\n"
   ]
  },
  {
   "cell_type": "code",
   "execution_count": null,
   "metadata": {},
   "outputs": [],
   "source": []
  },
  {
   "cell_type": "code",
   "execution_count": null,
   "metadata": {},
   "outputs": [],
   "source": []
  },
  {
   "cell_type": "code",
   "execution_count": null,
   "metadata": {},
   "outputs": [],
   "source": []
  }
 ],
 "metadata": {
  "kernelspec": {
   "display_name": "base",
   "language": "python",
   "name": "python3"
  },
  "language_info": {
   "codemirror_mode": {
    "name": "ipython",
    "version": 3
   },
   "file_extension": ".py",
   "mimetype": "text/x-python",
   "name": "python",
   "nbconvert_exporter": "python",
   "pygments_lexer": "ipython3",
   "version": "3.11.8"
  }
 },
 "nbformat": 4,
 "nbformat_minor": 2
}
